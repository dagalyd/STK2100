{
 "cells": [
  {
   "cell_type": "code",
   "execution_count": 47,
   "metadata": {},
   "outputs": [],
   "source": [
    "import pandas as pd \n",
    "import numpy as np \n",
    "from scipy import stats\n",
    "import requests\n",
    "import matplotlib.pyplot as plt\n",
    "import seaborn as sns\n",
    "from sklearn.metrics import mean_squared_error, r2_score\n",
    "import statsmodels.api as sm"
   ]
  },
  {
   "cell_type": "markdown",
   "metadata": {},
   "source": [
    "## Problem 1"
   ]
  },
  {
   "cell_type": "markdown",
   "metadata": {},
   "source": [
    "### I have done some of the assignment i python as this is the language I know, but also have tried to learn some R and have used R for some of the problems."
   ]
  },
  {
   "cell_type": "markdown",
   "metadata": {},
   "source": [
    "## (a) Make the data available through the commands\n"
   ]
  },
  {
   "cell_type": "code",
   "execution_count": 48,
   "metadata": {},
   "outputs": [],
   "source": [
    "df = pd.read_table(\"https://www.uio.no/studier/emner/matnat/math/STK2100/data/nuclear.dat\")"
   ]
  },
  {
   "cell_type": "code",
   "execution_count": 49,
   "metadata": {},
   "outputs": [
    {
     "data": {
      "text/html": [
       "<div>\n",
       "<style scoped>\n",
       "    .dataframe tbody tr th:only-of-type {\n",
       "        vertical-align: middle;\n",
       "    }\n",
       "\n",
       "    .dataframe tbody tr th {\n",
       "        vertical-align: top;\n",
       "    }\n",
       "\n",
       "    .dataframe thead th {\n",
       "        text-align: right;\n",
       "    }\n",
       "</style>\n",
       "<table border=\"1\" class=\"dataframe\">\n",
       "  <thead>\n",
       "    <tr style=\"text-align: right;\">\n",
       "      <th></th>\n",
       "      <th>cost</th>\n",
       "      <th>date</th>\n",
       "      <th>t1</th>\n",
       "      <th>t2</th>\n",
       "      <th>cap</th>\n",
       "      <th>pr</th>\n",
       "      <th>ne</th>\n",
       "      <th>ct</th>\n",
       "      <th>bw</th>\n",
       "      <th>cum.n</th>\n",
       "      <th>pt</th>\n",
       "    </tr>\n",
       "  </thead>\n",
       "  <tbody>\n",
       "    <tr>\n",
       "      <th>0</th>\n",
       "      <td>460.05</td>\n",
       "      <td>68.58</td>\n",
       "      <td>14</td>\n",
       "      <td>46</td>\n",
       "      <td>687</td>\n",
       "      <td>0</td>\n",
       "      <td>1</td>\n",
       "      <td>0</td>\n",
       "      <td>0</td>\n",
       "      <td>14</td>\n",
       "      <td>0</td>\n",
       "    </tr>\n",
       "    <tr>\n",
       "      <th>1</th>\n",
       "      <td>452.99</td>\n",
       "      <td>67.33</td>\n",
       "      <td>10</td>\n",
       "      <td>73</td>\n",
       "      <td>1065</td>\n",
       "      <td>0</td>\n",
       "      <td>0</td>\n",
       "      <td>1</td>\n",
       "      <td>0</td>\n",
       "      <td>1</td>\n",
       "      <td>0</td>\n",
       "    </tr>\n",
       "    <tr>\n",
       "      <th>2</th>\n",
       "      <td>443.22</td>\n",
       "      <td>67.33</td>\n",
       "      <td>10</td>\n",
       "      <td>85</td>\n",
       "      <td>1065</td>\n",
       "      <td>1</td>\n",
       "      <td>0</td>\n",
       "      <td>1</td>\n",
       "      <td>0</td>\n",
       "      <td>1</td>\n",
       "      <td>0</td>\n",
       "    </tr>\n",
       "    <tr>\n",
       "      <th>3</th>\n",
       "      <td>652.32</td>\n",
       "      <td>68.00</td>\n",
       "      <td>11</td>\n",
       "      <td>67</td>\n",
       "      <td>1065</td>\n",
       "      <td>0</td>\n",
       "      <td>1</td>\n",
       "      <td>1</td>\n",
       "      <td>0</td>\n",
       "      <td>12</td>\n",
       "      <td>0</td>\n",
       "    </tr>\n",
       "    <tr>\n",
       "      <th>4</th>\n",
       "      <td>642.23</td>\n",
       "      <td>68.00</td>\n",
       "      <td>11</td>\n",
       "      <td>78</td>\n",
       "      <td>1065</td>\n",
       "      <td>1</td>\n",
       "      <td>1</td>\n",
       "      <td>1</td>\n",
       "      <td>0</td>\n",
       "      <td>12</td>\n",
       "      <td>0</td>\n",
       "    </tr>\n",
       "  </tbody>\n",
       "</table>\n",
       "</div>"
      ],
      "text/plain": [
       "     cost   date  t1  t2   cap  pr  ne  ct  bw  cum.n  pt\n",
       "0  460.05  68.58  14  46   687   0   1   0   0     14   0\n",
       "1  452.99  67.33  10  73  1065   0   0   1   0      1   0\n",
       "2  443.22  67.33  10  85  1065   1   0   1   0      1   0\n",
       "3  652.32  68.00  11  67  1065   0   1   1   0     12   0\n",
       "4  642.23  68.00  11  78  1065   1   1   1   0     12   0"
      ]
     },
     "execution_count": 49,
     "metadata": {},
     "output_type": "execute_result"
    }
   ],
   "source": [
    "df.head()"
   ]
  },
  {
   "cell_type": "code",
   "execution_count": 4,
   "metadata": {},
   "outputs": [
    {
     "name": "stdout",
     "output_type": "stream",
     "text": [
      "Nuclear Power Station Construction Data\n",
      "\n",
      "SUMMARY:\n",
      "       The nuclear data frame has 32 rows and 11 columns.\n",
      "\n",
      "       The data relate to the  construction  of  32  light  water\n",
      "       reactor  (LWR) plants constructed in the U.S.A in the late\n",
      "       1960's and early 1970's.  The data was collected with  the\n",
      "       aim  of predicting the cost of construction of further LWR\n",
      "       plants.   6  of  the  power  plants  had  partial  turnkey\n",
      "       guarantees and it is possible that, for these plants, some\n",
      "       manufacturers' subsidies  may  be  hidden  in  the  quoted\n",
      "       capital costs.\n",
      "\n",
      "DATA DESCRIPTION:\n",
      "       This data frame contains the following columns:\n",
      "\n",
      "cost:     The capital cost of construction in millions of dollars\n",
      "       adjusted to 1976 base.\n",
      "date:     The date on which the construction permit  was  issued.\n",
      "       The data are measured in years since January 1 1990 to the\n",
      "       nearest month.\n",
      "t1:     The  time  between  application  for  and  issue  of  the\n",
      "       construction permit.\n",
      "t2:     The  time  between  issue  of   operating   license   and\n",
      "       construction permit.\n",
      "cap:   The net capacity of the power plant (MWe).\n",
      "pr:    A binary variable where 1 indicates the prior existence of\n",
      "       a LWR plant at the same site.\n",
      "ne:    A binary variable where 1 indicates  that  the  plant  was\n",
      "       constructed in the north-east region of the U.S.A.\n",
      "ct:    A binary variable where 1 indicates the use of  a  cooling\n",
      "       tower in the plant.\n",
      "bw:    A binary variable where 1 indicates that the nuclear steam\n",
      "       supply system was manufactured by Babcock-Wilcox.\n",
      "cum.n:    The cumulative number of power  plants  constructed  by\n",
      "       each architect-engineer.\n",
      "pt:    A binary variable where  1  indicates  those  plants  with\n",
      "       partial turnkey guarantees.\n",
      "\n",
      "SOURCE:\n",
      "       The data were obtained from\n",
      "\n",
      "       Cox, D.R.  and  Snell,  E.J.  (1981)  Applied  Statistics:\n",
      "       Principles and Examples. Chapman and Hall.\n",
      "\n",
      "\n",
      "\n"
     ]
    }
   ],
   "source": [
    "url = \"https://www.uio.no/studier/emner/matnat/math/STK2100/data/nuclear.txt\"\n",
    "r = requests.get(url)\n",
    "for line in r.text.split(\"\\n\"):\n",
    "    print(line)"
   ]
  },
  {
   "cell_type": "code",
   "execution_count": 5,
   "metadata": {},
   "outputs": [
    {
     "data": {
      "text/html": [
       "<div>\n",
       "<style scoped>\n",
       "    .dataframe tbody tr th:only-of-type {\n",
       "        vertical-align: middle;\n",
       "    }\n",
       "\n",
       "    .dataframe tbody tr th {\n",
       "        vertical-align: top;\n",
       "    }\n",
       "\n",
       "    .dataframe thead th {\n",
       "        text-align: right;\n",
       "    }\n",
       "</style>\n",
       "<table border=\"1\" class=\"dataframe\">\n",
       "  <thead>\n",
       "    <tr style=\"text-align: right;\">\n",
       "      <th></th>\n",
       "      <th>cost</th>\n",
       "      <th>date</th>\n",
       "      <th>t1</th>\n",
       "      <th>t2</th>\n",
       "      <th>cap</th>\n",
       "      <th>pr</th>\n",
       "      <th>ne</th>\n",
       "      <th>ct</th>\n",
       "      <th>bw</th>\n",
       "      <th>cum.n</th>\n",
       "      <th>pt</th>\n",
       "    </tr>\n",
       "  </thead>\n",
       "  <tbody>\n",
       "    <tr>\n",
       "      <th>count</th>\n",
       "      <td>32.00</td>\n",
       "      <td>32.00</td>\n",
       "      <td>32.00</td>\n",
       "      <td>32.00</td>\n",
       "      <td>32.00</td>\n",
       "      <td>32.00</td>\n",
       "      <td>32.00</td>\n",
       "      <td>32.00</td>\n",
       "      <td>32.00</td>\n",
       "      <td>32.00</td>\n",
       "      <td>32.00</td>\n",
       "    </tr>\n",
       "    <tr>\n",
       "      <th>mean</th>\n",
       "      <td>461.56</td>\n",
       "      <td>68.58</td>\n",
       "      <td>13.75</td>\n",
       "      <td>62.38</td>\n",
       "      <td>825.38</td>\n",
       "      <td>0.31</td>\n",
       "      <td>0.25</td>\n",
       "      <td>0.41</td>\n",
       "      <td>0.19</td>\n",
       "      <td>8.53</td>\n",
       "      <td>0.19</td>\n",
       "    </tr>\n",
       "    <tr>\n",
       "      <th>std</th>\n",
       "      <td>170.12</td>\n",
       "      <td>1.02</td>\n",
       "      <td>3.37</td>\n",
       "      <td>10.39</td>\n",
       "      <td>189.36</td>\n",
       "      <td>0.47</td>\n",
       "      <td>0.44</td>\n",
       "      <td>0.50</td>\n",
       "      <td>0.40</td>\n",
       "      <td>6.33</td>\n",
       "      <td>0.40</td>\n",
       "    </tr>\n",
       "    <tr>\n",
       "      <th>min</th>\n",
       "      <td>207.51</td>\n",
       "      <td>67.17</td>\n",
       "      <td>7.00</td>\n",
       "      <td>44.00</td>\n",
       "      <td>457.00</td>\n",
       "      <td>0.00</td>\n",
       "      <td>0.00</td>\n",
       "      <td>0.00</td>\n",
       "      <td>0.00</td>\n",
       "      <td>1.00</td>\n",
       "      <td>0.00</td>\n",
       "    </tr>\n",
       "    <tr>\n",
       "      <th>25%</th>\n",
       "      <td>310.32</td>\n",
       "      <td>67.90</td>\n",
       "      <td>11.75</td>\n",
       "      <td>56.50</td>\n",
       "      <td>745.00</td>\n",
       "      <td>0.00</td>\n",
       "      <td>0.00</td>\n",
       "      <td>0.00</td>\n",
       "      <td>0.00</td>\n",
       "      <td>3.00</td>\n",
       "      <td>0.00</td>\n",
       "    </tr>\n",
       "    <tr>\n",
       "      <th>50%</th>\n",
       "      <td>448.10</td>\n",
       "      <td>68.42</td>\n",
       "      <td>13.00</td>\n",
       "      <td>62.50</td>\n",
       "      <td>822.00</td>\n",
       "      <td>0.00</td>\n",
       "      <td>0.00</td>\n",
       "      <td>0.00</td>\n",
       "      <td>0.00</td>\n",
       "      <td>7.50</td>\n",
       "      <td>0.00</td>\n",
       "    </tr>\n",
       "    <tr>\n",
       "      <th>75%</th>\n",
       "      <td>611.96</td>\n",
       "      <td>68.92</td>\n",
       "      <td>15.25</td>\n",
       "      <td>70.25</td>\n",
       "      <td>947.25</td>\n",
       "      <td>1.00</td>\n",
       "      <td>0.25</td>\n",
       "      <td>1.00</td>\n",
       "      <td>0.00</td>\n",
       "      <td>12.50</td>\n",
       "      <td>0.00</td>\n",
       "    </tr>\n",
       "    <tr>\n",
       "      <th>max</th>\n",
       "      <td>881.24</td>\n",
       "      <td>71.08</td>\n",
       "      <td>22.00</td>\n",
       "      <td>85.00</td>\n",
       "      <td>1130.00</td>\n",
       "      <td>1.00</td>\n",
       "      <td>1.00</td>\n",
       "      <td>1.00</td>\n",
       "      <td>1.00</td>\n",
       "      <td>21.00</td>\n",
       "      <td>1.00</td>\n",
       "    </tr>\n",
       "  </tbody>\n",
       "</table>\n",
       "</div>"
      ],
      "text/plain": [
       "         cost   date     t1     t2      cap     pr     ne     ct     bw  \\\n",
       "count   32.00  32.00  32.00  32.00    32.00  32.00  32.00  32.00  32.00   \n",
       "mean   461.56  68.58  13.75  62.38   825.38   0.31   0.25   0.41   0.19   \n",
       "std    170.12   1.02   3.37  10.39   189.36   0.47   0.44   0.50   0.40   \n",
       "min    207.51  67.17   7.00  44.00   457.00   0.00   0.00   0.00   0.00   \n",
       "25%    310.32  67.90  11.75  56.50   745.00   0.00   0.00   0.00   0.00   \n",
       "50%    448.10  68.42  13.00  62.50   822.00   0.00   0.00   0.00   0.00   \n",
       "75%    611.96  68.92  15.25  70.25   947.25   1.00   0.25   1.00   0.00   \n",
       "max    881.24  71.08  22.00  85.00  1130.00   1.00   1.00   1.00   1.00   \n",
       "\n",
       "       cum.n     pt  \n",
       "count  32.00  32.00  \n",
       "mean    8.53   0.19  \n",
       "std     6.33   0.40  \n",
       "min     1.00   0.00  \n",
       "25%     3.00   0.00  \n",
       "50%     7.50   0.00  \n",
       "75%    12.50   0.00  \n",
       "max    21.00   1.00  "
      ]
     },
     "execution_count": 5,
     "metadata": {},
     "output_type": "execute_result"
    }
   ],
   "source": [
    "df.describe().round(2)"
   ]
  },
  {
   "cell_type": "markdown",
   "metadata": {},
   "source": [
    "### Looking at the scatter plot there seems to be some visual signs of correlation between the cost response variable and date and t1 features. \n",
    "### From the plots we can also see that there are some binary variables. "
   ]
  },
  {
   "cell_type": "code",
   "execution_count": 6,
   "metadata": {},
   "outputs": [
    {
     "data": {
      "image/png": "[encoded data removed]",
      "text/plain": [
       "<Figure size 1152x576 with 121 Axes>"
      ]
     },
     "metadata": {
      "needs_background": "light"
     },
     "output_type": "display_data"
    }
   ],
   "source": [
    "pd.plotting.scatter_matrix(df,figsize=(16,8))\n",
    "plt.show()"
   ]
  },
  {
   "cell_type": "markdown",
   "metadata": {},
   "source": [
    "### Creating the y response variable and the design matrix X and adding an intersept with the statsmodels (sm) library."
   ]
  },
  {
   "cell_type": "code",
   "execution_count": 7,
   "metadata": {},
   "outputs": [],
   "source": [
    "X = df.drop(\"cost\",axis=1)\n",
    "y = df.cost.apply(np.log)\n",
    "\n",
    "n = X.shape[0]\n",
    "p = X.shape[1]\n",
    "\n",
    "X = sm.add_constant(X)"
   ]
  },
  {
   "cell_type": "code",
   "execution_count": 8,
   "metadata": {},
   "outputs": [
    {
     "data": {
      "text/plain": [
       "10"
      ]
     },
     "execution_count": 8,
     "metadata": {},
     "output_type": "execute_result"
    }
   ],
   "source": [
    "p"
   ]
  },
  {
   "cell_type": "markdown",
   "metadata": {},
   "source": [
    "## (b) We will first look at a model  $$ Y_i = \\beta_0 + \\beta_1 x_1 + ... + \\beta_p x_{i,p} + \\epsilon_i $$"
   ]
  },
  {
   "cell_type": "markdown",
   "metadata": {},
   "source": [
    "### We assume the noise terms $\\epsilon_i$ is normaly distributed and independent of each other. \n",
    "### There is also an assuption of a zero mean for the noise and have a constant variance. \n",
    "\n",
    "### The most important assumption is that the noise is normaly distributed. \n"
   ]
  },
  {
   "cell_type": "markdown",
   "metadata": {},
   "source": [
    "## ================================="
   ]
  },
  {
   "cell_type": "markdown",
   "metadata": {},
   "source": [
    "### Fitting first the model using matrix operations.\n",
    "### Displaying the estimates of beta, std. error, t-value and p-value for each feature in a table. "
   ]
  },
  {
   "cell_type": "code",
   "execution_count": 9,
   "metadata": {},
   "outputs": [
    {
     "data": {
      "text/html": [
       "<div>\n",
       "<style scoped>\n",
       "    .dataframe tbody tr th:only-of-type {\n",
       "        vertical-align: middle;\n",
       "    }\n",
       "\n",
       "    .dataframe tbody tr th {\n",
       "        vertical-align: top;\n",
       "    }\n",
       "\n",
       "    .dataframe thead th {\n",
       "        text-align: right;\n",
       "    }\n",
       "</style>\n",
       "<table border=\"1\" class=\"dataframe\">\n",
       "  <thead>\n",
       "    <tr style=\"text-align: right;\">\n",
       "      <th></th>\n",
       "      <th>Beta</th>\n",
       "      <th>Standar error</th>\n",
       "      <th>t-value</th>\n",
       "      <th>p-value</th>\n",
       "    </tr>\n",
       "  </thead>\n",
       "  <tbody>\n",
       "    <tr>\n",
       "      <th>const</th>\n",
       "      <td>-10.634</td>\n",
       "      <td>5.58</td>\n",
       "      <td>-1.91</td>\n",
       "      <td>0.066</td>\n",
       "    </tr>\n",
       "    <tr>\n",
       "      <th>date</th>\n",
       "      <td>0.228</td>\n",
       "      <td>0.08</td>\n",
       "      <td>2.69</td>\n",
       "      <td>0.011</td>\n",
       "    </tr>\n",
       "    <tr>\n",
       "      <th>t1</th>\n",
       "      <td>0.005</td>\n",
       "      <td>0.02</td>\n",
       "      <td>0.24</td>\n",
       "      <td>0.811</td>\n",
       "    </tr>\n",
       "    <tr>\n",
       "      <th>t2</th>\n",
       "      <td>0.006</td>\n",
       "      <td>0.00</td>\n",
       "      <td>1.25</td>\n",
       "      <td>0.221</td>\n",
       "    </tr>\n",
       "    <tr>\n",
       "      <th>cap</th>\n",
       "      <td>0.001</td>\n",
       "      <td>0.00</td>\n",
       "      <td>4.99</td>\n",
       "      <td>0.000</td>\n",
       "    </tr>\n",
       "    <tr>\n",
       "      <th>pr</th>\n",
       "      <td>-0.108</td>\n",
       "      <td>0.08</td>\n",
       "      <td>-1.33</td>\n",
       "      <td>0.195</td>\n",
       "    </tr>\n",
       "    <tr>\n",
       "      <th>ne</th>\n",
       "      <td>0.259</td>\n",
       "      <td>0.08</td>\n",
       "      <td>3.35</td>\n",
       "      <td>0.002</td>\n",
       "    </tr>\n",
       "    <tr>\n",
       "      <th>ct</th>\n",
       "      <td>0.116</td>\n",
       "      <td>0.07</td>\n",
       "      <td>1.68</td>\n",
       "      <td>0.102</td>\n",
       "    </tr>\n",
       "    <tr>\n",
       "      <th>bw</th>\n",
       "      <td>0.037</td>\n",
       "      <td>0.10</td>\n",
       "      <td>0.35</td>\n",
       "      <td>0.725</td>\n",
       "    </tr>\n",
       "    <tr>\n",
       "      <th>cum.n</th>\n",
       "      <td>-0.012</td>\n",
       "      <td>0.01</td>\n",
       "      <td>-1.57</td>\n",
       "      <td>0.126</td>\n",
       "    </tr>\n",
       "    <tr>\n",
       "      <th>pt</th>\n",
       "      <td>-0.222</td>\n",
       "      <td>0.13</td>\n",
       "      <td>-1.74</td>\n",
       "      <td>0.091</td>\n",
       "    </tr>\n",
       "  </tbody>\n",
       "</table>\n",
       "</div>"
      ],
      "text/plain": [
       "         Beta  Standar error  t-value  p-value\n",
       "const -10.634           5.58    -1.91    0.066\n",
       "date    0.228           0.08     2.69    0.011\n",
       "t1      0.005           0.02     0.24    0.811\n",
       "t2      0.006           0.00     1.25    0.221\n",
       "cap     0.001           0.00     4.99    0.000\n",
       "pr     -0.108           0.08    -1.33    0.195\n",
       "ne      0.259           0.08     3.35    0.002\n",
       "ct      0.116           0.07     1.68    0.102\n",
       "bw      0.037           0.10     0.35    0.725\n",
       "cum.n  -0.012           0.01    -1.57    0.126\n",
       "pt     -0.222           0.13    -1.74    0.091"
      ]
     },
     "execution_count": 9,
     "metadata": {},
     "output_type": "execute_result"
    }
   ],
   "source": [
    "beta = np.linalg.inv(X.T @ X) @ (X.T @ y)\n",
    "y_hat = X @ beta\n",
    "\n",
    "D = np.linalg.norm(y-y_hat)**2\n",
    "\n",
    "s2 = D / (n-p)\n",
    "\n",
    "varBeta = s2*np.linalg.inv(X.T @ X)\n",
    "\n",
    "SE = np.sqrt(np.diagonal(varBeta))\n",
    "\n",
    "t_value = beta / SE\n",
    "\n",
    "p_value = stats.t.sf(np.abs(t_value), n-1)*2\n",
    "\n",
    "result = pd.DataFrame((beta.round(3),SE.round(2),t_value.round(2),p_value.round(3)),\n",
    "             index=[\"Beta\",\"Standar error\",\"t-value\",\"p-value\"],\n",
    "            columns=X.columns.to_list()).T\n",
    "\n",
    "result"
   ]
  },
  {
   "cell_type": "markdown",
   "metadata": {},
   "source": [
    "### Fitting the same model using the statsmodels library. "
   ]
  },
  {
   "cell_type": "code",
   "execution_count": 10,
   "metadata": {},
   "outputs": [
    {
     "data": {
      "text/html": [
       "<table class=\"simpletable\">\n",
       "<caption>OLS Regression Results</caption>\n",
       "<tr>\n",
       "  <th>Dep. Variable:</th>          <td>cost</td>       <th>  R-squared:         </th> <td>   0.863</td>\n",
       "</tr>\n",
       "<tr>\n",
       "  <th>Model:</th>                   <td>OLS</td>       <th>  Adj. R-squared:    </th> <td>   0.798</td>\n",
       "</tr>\n",
       "<tr>\n",
       "  <th>Method:</th>             <td>Least Squares</td>  <th>  F-statistic:       </th> <td>   13.28</td>\n",
       "</tr>\n",
       "<tr>\n",
       "  <th>Date:</th>             <td>Wed, 17 Feb 2021</td> <th>  Prob (F-statistic):</th> <td>5.72e-07</td>\n",
       "</tr>\n",
       "<tr>\n",
       "  <th>Time:</th>                 <td>22:17:12</td>     <th>  Log-Likelihood:    </th> <td>  18.101</td>\n",
       "</tr>\n",
       "<tr>\n",
       "  <th>No. Observations:</th>      <td>    32</td>      <th>  AIC:               </th> <td>  -14.20</td>\n",
       "</tr>\n",
       "<tr>\n",
       "  <th>Df Residuals:</th>          <td>    21</td>      <th>  BIC:               </th> <td>   1.921</td>\n",
       "</tr>\n",
       "<tr>\n",
       "  <th>Df Model:</th>              <td>    10</td>      <th>                     </th>     <td> </td>   \n",
       "</tr>\n",
       "<tr>\n",
       "  <th>Covariance Type:</th>      <td>nonrobust</td>    <th>                     </th>     <td> </td>   \n",
       "</tr>\n",
       "</table>\n",
       "<table class=\"simpletable\">\n",
       "<tr>\n",
       "    <td></td>       <th>coef</th>     <th>std err</th>      <th>t</th>      <th>P>|t|</th>  <th>[0.025</th>    <th>0.975]</th>  \n",
       "</tr>\n",
       "<tr>\n",
       "  <th>const</th> <td>  -10.6340</td> <td>    5.710</td> <td>   -1.862</td> <td> 0.077</td> <td>  -22.509</td> <td>    1.241</td>\n",
       "</tr>\n",
       "<tr>\n",
       "  <th>date</th>  <td>    0.2276</td> <td>    0.087</td> <td>    2.629</td> <td> 0.016</td> <td>    0.048</td> <td>    0.408</td>\n",
       "</tr>\n",
       "<tr>\n",
       "  <th>t1</th>    <td>    0.0053</td> <td>    0.022</td> <td>    0.236</td> <td> 0.816</td> <td>   -0.041</td> <td>    0.052</td>\n",
       "</tr>\n",
       "<tr>\n",
       "  <th>t2</th>    <td>    0.0056</td> <td>    0.005</td> <td>    1.220</td> <td> 0.236</td> <td>   -0.004</td> <td>    0.015</td>\n",
       "</tr>\n",
       "<tr>\n",
       "  <th>cap</th>   <td>    0.0009</td> <td>    0.000</td> <td>    4.878</td> <td> 0.000</td> <td>    0.001</td> <td>    0.001</td>\n",
       "</tr>\n",
       "<tr>\n",
       "  <th>pr</th>    <td>   -0.1081</td> <td>    0.084</td> <td>   -1.295</td> <td> 0.209</td> <td>   -0.282</td> <td>    0.066</td>\n",
       "</tr>\n",
       "<tr>\n",
       "  <th>ne</th>    <td>    0.2595</td> <td>    0.079</td> <td>    3.274</td> <td> 0.004</td> <td>    0.095</td> <td>    0.424</td>\n",
       "</tr>\n",
       "<tr>\n",
       "  <th>ct</th>    <td>    0.1155</td> <td>    0.070</td> <td>    1.644</td> <td> 0.115</td> <td>   -0.031</td> <td>    0.262</td>\n",
       "</tr>\n",
       "<tr>\n",
       "  <th>bw</th>    <td>    0.0368</td> <td>    0.106</td> <td>    0.346</td> <td> 0.733</td> <td>   -0.184</td> <td>    0.258</td>\n",
       "</tr>\n",
       "<tr>\n",
       "  <th>cum.n</th> <td>   -0.0120</td> <td>    0.008</td> <td>   -1.536</td> <td> 0.139</td> <td>   -0.028</td> <td>    0.004</td>\n",
       "</tr>\n",
       "<tr>\n",
       "  <th>pt</th>    <td>   -0.2220</td> <td>    0.130</td> <td>   -1.702</td> <td> 0.104</td> <td>   -0.493</td> <td>    0.049</td>\n",
       "</tr>\n",
       "</table>\n",
       "<table class=\"simpletable\">\n",
       "<tr>\n",
       "  <th>Omnibus:</th>       <td> 0.488</td> <th>  Durbin-Watson:     </th> <td>   2.260</td>\n",
       "</tr>\n",
       "<tr>\n",
       "  <th>Prob(Omnibus):</th> <td> 0.784</td> <th>  Jarque-Bera (JB):  </th> <td>   0.482</td>\n",
       "</tr>\n",
       "<tr>\n",
       "  <th>Skew:</th>          <td>-0.262</td> <th>  Prob(JB):          </th> <td>   0.786</td>\n",
       "</tr>\n",
       "<tr>\n",
       "  <th>Kurtosis:</th>      <td> 2.706</td> <th>  Cond. No.          </th> <td>1.62e+05</td>\n",
       "</tr>\n",
       "</table><br/><br/>Notes:<br/>[1] Standard Errors assume that the covariance matrix of the errors is correctly specified.<br/>[2] The condition number is large, 1.62e+05. This might indicate that there are<br/>strong multicollinearity or other numerical problems."
      ],
      "text/plain": [
       "<class 'statsmodels.iolib.summary.Summary'>\n",
       "\"\"\"\n",
       "                            OLS Regression Results                            \n",
       "==============================================================================\n",
       "Dep. Variable:                   cost   R-squared:                       0.863\n",
       "Model:                            OLS   Adj. R-squared:                  0.798\n",
       "Method:                 Least Squares   F-statistic:                     13.28\n",
       "Date:                Wed, 17 Feb 2021   Prob (F-statistic):           5.72e-07\n",
       "Time:                        22:17:12   Log-Likelihood:                 18.101\n",
       "No. Observations:                  32   AIC:                            -14.20\n",
       "Df Residuals:                      21   BIC:                             1.921\n",
       "Df Model:                          10                                         \n",
       "Covariance Type:            nonrobust                                         \n",
       "==============================================================================\n",
       "                 coef    std err          t      P>|t|      [0.025      0.975]\n",
       "------------------------------------------------------------------------------\n",
       "const        -10.6340      5.710     -1.862      0.077     -22.509       1.241\n",
       "date           0.2276      0.087      2.629      0.016       0.048       0.408\n",
       "t1             0.0053      0.022      0.236      0.816      -0.041       0.052\n",
       "t2             0.0056      0.005      1.220      0.236      -0.004       0.015\n",
       "cap            0.0009      0.000      4.878      0.000       0.001       0.001\n",
       "pr            -0.1081      0.084     -1.295      0.209      -0.282       0.066\n",
       "ne             0.2595      0.079      3.274      0.004       0.095       0.424\n",
       "ct             0.1155      0.070      1.644      0.115      -0.031       0.262\n",
       "bw             0.0368      0.106      0.346      0.733      -0.184       0.258\n",
       "cum.n         -0.0120      0.008     -1.536      0.139      -0.028       0.004\n",
       "pt            -0.2220      0.130     -1.702      0.104      -0.493       0.049\n",
       "==============================================================================\n",
       "Omnibus:                        0.488   Durbin-Watson:                   2.260\n",
       "Prob(Omnibus):                  0.784   Jarque-Bera (JB):                0.482\n",
       "Skew:                          -0.262   Prob(JB):                        0.786\n",
       "Kurtosis:                       2.706   Cond. No.                     1.62e+05\n",
       "==============================================================================\n",
       "\n",
       "Notes:\n",
       "[1] Standard Errors assume that the covariance matrix of the errors is correctly specified.\n",
       "[2] The condition number is large, 1.62e+05. This might indicate that there are\n",
       "strong multicollinearity or other numerical problems.\n",
       "\"\"\""
      ]
     },
     "execution_count": 10,
     "metadata": {},
     "output_type": "execute_result"
    }
   ],
   "source": [
    "linear_model = sm.OLS(y,X).fit()\n",
    "linear_model.summary()"
   ]
  },
  {
   "cell_type": "markdown",
   "metadata": {},
   "source": [
    "## (c) Now remove the variable with the highest corresponding P-value and fit the new model."
   ]
  },
  {
   "cell_type": "markdown",
   "metadata": {},
   "source": [
    "### Removing variables that has a high P-value leaves features that are more likely to be impactful when predicting the response variable."
   ]
  },
  {
   "cell_type": "code",
   "execution_count": 11,
   "metadata": {},
   "outputs": [
    {
     "data": {
      "text/plain": [
       "t1       0.816098\n",
       "bw       0.732608\n",
       "t2       0.235986\n",
       "pr       0.209429\n",
       "cum.n    0.139440\n",
       "ct       0.115033\n",
       "pt       0.103520\n",
       "const    0.076619\n",
       "date     0.015672\n",
       "ne       0.003620\n",
       "cap      0.000080\n",
       "dtype: float64"
      ]
     },
     "execution_count": 11,
     "metadata": {},
     "output_type": "execute_result"
    }
   ],
   "source": [
    "p_values = linear_model.pvalues.sort_values(ascending=False)\n",
    "p_values"
   ]
  },
  {
   "cell_type": "markdown",
   "metadata": {},
   "source": [
    "Removing the feature with the highest P-value : t1"
   ]
  },
  {
   "cell_type": "code",
   "execution_count": 12,
   "metadata": {},
   "outputs": [],
   "source": [
    "X2 = X.drop(p_values.drop(\"const\").index[0], axis=1)"
   ]
  },
  {
   "cell_type": "markdown",
   "metadata": {},
   "source": [
    "The remaining features:"
   ]
  },
  {
   "cell_type": "code",
   "execution_count": 13,
   "metadata": {},
   "outputs": [
    {
     "data": {
      "text/html": [
       "<div>\n",
       "<style scoped>\n",
       "    .dataframe tbody tr th:only-of-type {\n",
       "        vertical-align: middle;\n",
       "    }\n",
       "\n",
       "    .dataframe tbody tr th {\n",
       "        vertical-align: top;\n",
       "    }\n",
       "\n",
       "    .dataframe thead th {\n",
       "        text-align: right;\n",
       "    }\n",
       "</style>\n",
       "<table border=\"1\" class=\"dataframe\">\n",
       "  <thead>\n",
       "    <tr style=\"text-align: right;\">\n",
       "      <th></th>\n",
       "      <th>const</th>\n",
       "      <th>date</th>\n",
       "      <th>t2</th>\n",
       "      <th>cap</th>\n",
       "      <th>pr</th>\n",
       "      <th>ne</th>\n",
       "      <th>ct</th>\n",
       "      <th>bw</th>\n",
       "      <th>cum.n</th>\n",
       "      <th>pt</th>\n",
       "    </tr>\n",
       "  </thead>\n",
       "  <tbody>\n",
       "    <tr>\n",
       "      <th>0</th>\n",
       "      <td>1.0</td>\n",
       "      <td>68.58</td>\n",
       "      <td>46</td>\n",
       "      <td>687</td>\n",
       "      <td>0</td>\n",
       "      <td>1</td>\n",
       "      <td>0</td>\n",
       "      <td>0</td>\n",
       "      <td>14</td>\n",
       "      <td>0</td>\n",
       "    </tr>\n",
       "    <tr>\n",
       "      <th>1</th>\n",
       "      <td>1.0</td>\n",
       "      <td>67.33</td>\n",
       "      <td>73</td>\n",
       "      <td>1065</td>\n",
       "      <td>0</td>\n",
       "      <td>0</td>\n",
       "      <td>1</td>\n",
       "      <td>0</td>\n",
       "      <td>1</td>\n",
       "      <td>0</td>\n",
       "    </tr>\n",
       "    <tr>\n",
       "      <th>2</th>\n",
       "      <td>1.0</td>\n",
       "      <td>67.33</td>\n",
       "      <td>85</td>\n",
       "      <td>1065</td>\n",
       "      <td>1</td>\n",
       "      <td>0</td>\n",
       "      <td>1</td>\n",
       "      <td>0</td>\n",
       "      <td>1</td>\n",
       "      <td>0</td>\n",
       "    </tr>\n",
       "  </tbody>\n",
       "</table>\n",
       "</div>"
      ],
      "text/plain": [
       "   const   date  t2   cap  pr  ne  ct  bw  cum.n  pt\n",
       "0    1.0  68.58  46   687   0   1   0   0     14   0\n",
       "1    1.0  67.33  73  1065   0   0   1   0      1   0\n",
       "2    1.0  67.33  85  1065   1   0   1   0      1   0"
      ]
     },
     "execution_count": 13,
     "metadata": {},
     "output_type": "execute_result"
    }
   ],
   "source": [
    "X2.head(3)"
   ]
  },
  {
   "cell_type": "markdown",
   "metadata": {},
   "source": [
    "Fitting a new model:"
   ]
  },
  {
   "cell_type": "code",
   "execution_count": 14,
   "metadata": {},
   "outputs": [
    {
     "data": {
      "text/html": [
       "<table class=\"simpletable\">\n",
       "<caption>OLS Regression Results</caption>\n",
       "<tr>\n",
       "  <th>Dep. Variable:</th>          <td>cost</td>       <th>  R-squared:         </th> <td>   0.863</td>\n",
       "</tr>\n",
       "<tr>\n",
       "  <th>Model:</th>                   <td>OLS</td>       <th>  Adj. R-squared:    </th> <td>   0.807</td>\n",
       "</tr>\n",
       "<tr>\n",
       "  <th>Method:</th>             <td>Least Squares</td>  <th>  F-statistic:       </th> <td>   15.42</td>\n",
       "</tr>\n",
       "<tr>\n",
       "  <th>Date:</th>             <td>Wed, 17 Feb 2021</td> <th>  Prob (F-statistic):</th> <td>1.42e-07</td>\n",
       "</tr>\n",
       "<tr>\n",
       "  <th>Time:</th>                 <td>22:17:12</td>     <th>  Log-Likelihood:    </th> <td>  18.059</td>\n",
       "</tr>\n",
       "<tr>\n",
       "  <th>No. Observations:</th>      <td>    32</td>      <th>  AIC:               </th> <td>  -16.12</td>\n",
       "</tr>\n",
       "<tr>\n",
       "  <th>Df Residuals:</th>          <td>    22</td>      <th>  BIC:               </th> <td>  -1.461</td>\n",
       "</tr>\n",
       "<tr>\n",
       "  <th>Df Model:</th>              <td>     9</td>      <th>                     </th>     <td> </td>   \n",
       "</tr>\n",
       "<tr>\n",
       "  <th>Covariance Type:</th>      <td>nonrobust</td>    <th>                     </th>     <td> </td>   \n",
       "</tr>\n",
       "</table>\n",
       "<table class=\"simpletable\">\n",
       "<tr>\n",
       "    <td></td>       <th>coef</th>     <th>std err</th>      <th>t</th>      <th>P>|t|</th>  <th>[0.025</th>    <th>0.975]</th>  \n",
       "</tr>\n",
       "<tr>\n",
       "  <th>const</th> <td>  -11.6117</td> <td>    3.835</td> <td>   -3.027</td> <td> 0.006</td> <td>  -19.566</td> <td>   -3.657</td>\n",
       "</tr>\n",
       "<tr>\n",
       "  <th>date</th>  <td>    0.2431</td> <td>    0.055</td> <td>    4.435</td> <td> 0.000</td> <td>    0.129</td> <td>    0.357</td>\n",
       "</tr>\n",
       "<tr>\n",
       "  <th>t2</th>    <td>    0.0055</td> <td>    0.004</td> <td>    1.225</td> <td> 0.233</td> <td>   -0.004</td> <td>    0.015</td>\n",
       "</tr>\n",
       "<tr>\n",
       "  <th>cap</th>   <td>    0.0009</td> <td>    0.000</td> <td>    5.002</td> <td> 0.000</td> <td>    0.001</td> <td>    0.001</td>\n",
       "</tr>\n",
       "<tr>\n",
       "  <th>pr</th>    <td>   -0.1035</td> <td>    0.079</td> <td>   -1.303</td> <td> 0.206</td> <td>   -0.268</td> <td>    0.061</td>\n",
       "</tr>\n",
       "<tr>\n",
       "  <th>ne</th>    <td>    0.2607</td> <td>    0.077</td> <td>    3.368</td> <td> 0.003</td> <td>    0.100</td> <td>    0.421</td>\n",
       "</tr>\n",
       "<tr>\n",
       "  <th>ct</th>    <td>    0.1142</td> <td>    0.069</td> <td>    1.667</td> <td> 0.110</td> <td>   -0.028</td> <td>    0.256</td>\n",
       "</tr>\n",
       "<tr>\n",
       "  <th>bw</th>    <td>    0.0262</td> <td>    0.094</td> <td>    0.278</td> <td> 0.783</td> <td>   -0.169</td> <td>    0.222</td>\n",
       "</tr>\n",
       "<tr>\n",
       "  <th>cum.n</th> <td>   -0.0122</td> <td>    0.008</td> <td>   -1.599</td> <td> 0.124</td> <td>   -0.028</td> <td>    0.004</td>\n",
       "</tr>\n",
       "<tr>\n",
       "  <th>pt</th>    <td>   -0.2157</td> <td>    0.125</td> <td>   -1.727</td> <td> 0.098</td> <td>   -0.475</td> <td>    0.043</td>\n",
       "</tr>\n",
       "</table>\n",
       "<table class=\"simpletable\">\n",
       "<tr>\n",
       "  <th>Omnibus:</th>       <td> 0.589</td> <th>  Durbin-Watson:     </th> <td>   2.244</td>\n",
       "</tr>\n",
       "<tr>\n",
       "  <th>Prob(Omnibus):</th> <td> 0.745</td> <th>  Jarque-Bera (JB):  </th> <td>   0.506</td>\n",
       "</tr>\n",
       "<tr>\n",
       "  <th>Skew:</th>          <td>-0.284</td> <th>  Prob(JB):          </th> <td>   0.777</td>\n",
       "</tr>\n",
       "<tr>\n",
       "  <th>Kurtosis:</th>      <td> 2.762</td> <th>  Cond. No.          </th> <td>1.11e+05</td>\n",
       "</tr>\n",
       "</table><br/><br/>Notes:<br/>[1] Standard Errors assume that the covariance matrix of the errors is correctly specified.<br/>[2] The condition number is large, 1.11e+05. This might indicate that there are<br/>strong multicollinearity or other numerical problems."
      ],
      "text/plain": [
       "<class 'statsmodels.iolib.summary.Summary'>\n",
       "\"\"\"\n",
       "                            OLS Regression Results                            \n",
       "==============================================================================\n",
       "Dep. Variable:                   cost   R-squared:                       0.863\n",
       "Model:                            OLS   Adj. R-squared:                  0.807\n",
       "Method:                 Least Squares   F-statistic:                     15.42\n",
       "Date:                Wed, 17 Feb 2021   Prob (F-statistic):           1.42e-07\n",
       "Time:                        22:17:12   Log-Likelihood:                 18.059\n",
       "No. Observations:                  32   AIC:                            -16.12\n",
       "Df Residuals:                      22   BIC:                            -1.461\n",
       "Df Model:                           9                                         \n",
       "Covariance Type:            nonrobust                                         \n",
       "==============================================================================\n",
       "                 coef    std err          t      P>|t|      [0.025      0.975]\n",
       "------------------------------------------------------------------------------\n",
       "const        -11.6117      3.835     -3.027      0.006     -19.566      -3.657\n",
       "date           0.2431      0.055      4.435      0.000       0.129       0.357\n",
       "t2             0.0055      0.004      1.225      0.233      -0.004       0.015\n",
       "cap            0.0009      0.000      5.002      0.000       0.001       0.001\n",
       "pr            -0.1035      0.079     -1.303      0.206      -0.268       0.061\n",
       "ne             0.2607      0.077      3.368      0.003       0.100       0.421\n",
       "ct             0.1142      0.069      1.667      0.110      -0.028       0.256\n",
       "bw             0.0262      0.094      0.278      0.783      -0.169       0.222\n",
       "cum.n         -0.0122      0.008     -1.599      0.124      -0.028       0.004\n",
       "pt            -0.2157      0.125     -1.727      0.098      -0.475       0.043\n",
       "==============================================================================\n",
       "Omnibus:                        0.589   Durbin-Watson:                   2.244\n",
       "Prob(Omnibus):                  0.745   Jarque-Bera (JB):                0.506\n",
       "Skew:                          -0.284   Prob(JB):                        0.777\n",
       "Kurtosis:                       2.762   Cond. No.                     1.11e+05\n",
       "==============================================================================\n",
       "\n",
       "Notes:\n",
       "[1] Standard Errors assume that the covariance matrix of the errors is correctly specified.\n",
       "[2] The condition number is large, 1.11e+05. This might indicate that there are\n",
       "strong multicollinearity or other numerical problems.\n",
       "\"\"\""
      ]
     },
     "execution_count": 14,
     "metadata": {},
     "output_type": "execute_result"
    }
   ],
   "source": [
    "linear_model2 = sm.OLS(y,X2).fit()\n",
    "linear_model2.summary()"
   ]
  },
  {
   "cell_type": "markdown",
   "metadata": {},
   "source": [
    "### Almost all the variables reduced their P-value when removing t1. \n",
    "### This could mean that the model as a whole got better. \n",
    "### The biggest reduction in P-values was seen in cum.n and date variables as seen in the table and first plot below.\n",
    "\n",
    "### The variables cum.n and date which had the greatest drop in P-values also has relatively high correlations with the removed variable t1. "
   ]
  },
  {
   "cell_type": "code",
   "execution_count": 15,
   "metadata": {},
   "outputs": [
    {
     "data": {
      "text/html": [
       "<div>\n",
       "<style scoped>\n",
       "    .dataframe tbody tr th:only-of-type {\n",
       "        vertical-align: middle;\n",
       "    }\n",
       "\n",
       "    .dataframe tbody tr th {\n",
       "        vertical-align: top;\n",
       "    }\n",
       "\n",
       "    .dataframe thead th {\n",
       "        text-align: right;\n",
       "    }\n",
       "</style>\n",
       "<table border=\"1\" class=\"dataframe\">\n",
       "  <thead>\n",
       "    <tr style=\"text-align: right;\">\n",
       "      <th></th>\n",
       "      <th>0</th>\n",
       "      <th>1</th>\n",
       "      <th>Diff</th>\n",
       "    </tr>\n",
       "  </thead>\n",
       "  <tbody>\n",
       "    <tr>\n",
       "      <th>const</th>\n",
       "      <td>0.076619</td>\n",
       "      <td>0.006187</td>\n",
       "      <td>-0.070431</td>\n",
       "    </tr>\n",
       "    <tr>\n",
       "      <th>date</th>\n",
       "      <td>0.015672</td>\n",
       "      <td>0.000208</td>\n",
       "      <td>-0.015464</td>\n",
       "    </tr>\n",
       "    <tr>\n",
       "      <th>cum.n</th>\n",
       "      <td>0.139440</td>\n",
       "      <td>0.124034</td>\n",
       "      <td>-0.015406</td>\n",
       "    </tr>\n",
       "    <tr>\n",
       "      <th>pt</th>\n",
       "      <td>0.103520</td>\n",
       "      <td>0.098181</td>\n",
       "      <td>-0.005339</td>\n",
       "    </tr>\n",
       "    <tr>\n",
       "      <th>ct</th>\n",
       "      <td>0.115033</td>\n",
       "      <td>0.109715</td>\n",
       "      <td>-0.005317</td>\n",
       "    </tr>\n",
       "    <tr>\n",
       "      <th>pr</th>\n",
       "      <td>0.209429</td>\n",
       "      <td>0.205922</td>\n",
       "      <td>-0.003507</td>\n",
       "    </tr>\n",
       "    <tr>\n",
       "      <th>t2</th>\n",
       "      <td>0.235986</td>\n",
       "      <td>0.233451</td>\n",
       "      <td>-0.002536</td>\n",
       "    </tr>\n",
       "    <tr>\n",
       "      <th>ne</th>\n",
       "      <td>0.003620</td>\n",
       "      <td>0.002772</td>\n",
       "      <td>-0.000848</td>\n",
       "    </tr>\n",
       "    <tr>\n",
       "      <th>cap</th>\n",
       "      <td>0.000080</td>\n",
       "      <td>0.000052</td>\n",
       "      <td>-0.000027</td>\n",
       "    </tr>\n",
       "    <tr>\n",
       "      <th>bw</th>\n",
       "      <td>0.732608</td>\n",
       "      <td>0.783401</td>\n",
       "      <td>0.050794</td>\n",
       "    </tr>\n",
       "    <tr>\n",
       "      <th>t1</th>\n",
       "      <td>0.816098</td>\n",
       "      <td>NaN</td>\n",
       "      <td>NaN</td>\n",
       "    </tr>\n",
       "  </tbody>\n",
       "</table>\n",
       "</div>"
      ],
      "text/plain": [
       "              0         1      Diff\n",
       "const  0.076619  0.006187 -0.070431\n",
       "date   0.015672  0.000208 -0.015464\n",
       "cum.n  0.139440  0.124034 -0.015406\n",
       "pt     0.103520  0.098181 -0.005339\n",
       "ct     0.115033  0.109715 -0.005317\n",
       "pr     0.209429  0.205922 -0.003507\n",
       "t2     0.235986  0.233451 -0.002536\n",
       "ne     0.003620  0.002772 -0.000848\n",
       "cap    0.000080  0.000052 -0.000027\n",
       "bw     0.732608  0.783401  0.050794\n",
       "t1     0.816098       NaN       NaN"
      ]
     },
     "execution_count": 15,
     "metadata": {},
     "output_type": "execute_result"
    }
   ],
   "source": [
    "p_values_models = pd.concat([p_values,linear_model2.pvalues],axis=1)\n",
    "p_values_models[\"Diff\"] = p_values_models[1] - p_values_models[0]\n",
    "p_values_models.sort_values(\"Diff\")"
   ]
  },
  {
   "cell_type": "markdown",
   "metadata": {},
   "source": [
    "Table: P-values for the first model with t1 and then without and difference in P-value between the two models."
   ]
  },
  {
   "cell_type": "code",
   "execution_count": 16,
   "metadata": {},
   "outputs": [
    {
     "data": {
      "text/plain": [
       "<AxesSubplot:>"
      ]
     },
     "execution_count": 16,
     "metadata": {},
     "output_type": "execute_result"
    },
    {
     "data": {
      "image/png": "[encoded data removed]",
      "text/plain": [
       "<Figure size 432x288 with 1 Axes>"
      ]
     },
     "metadata": {
      "needs_background": "light"
     },
     "output_type": "display_data"
    }
   ],
   "source": [
    "p_values_models.drop(\"const\").Diff.plot(kind=\"bar\")"
   ]
  },
  {
   "cell_type": "markdown",
   "metadata": {},
   "source": [
    "Plot: Change in P-values "
   ]
  },
  {
   "cell_type": "code",
   "execution_count": 17,
   "metadata": {},
   "outputs": [
    {
     "data": {
      "text/plain": [
       "<AxesSubplot:>"
      ]
     },
     "execution_count": 17,
     "metadata": {},
     "output_type": "execute_result"
    },
    {
     "data": {
      "image/png": "[encoded data removed]",
      "text/plain": [
       "<Figure size 432x288 with 1 Axes>"
      ]
     },
     "metadata": {
      "needs_background": "light"
     },
     "output_type": "display_data"
    }
   ],
   "source": [
    "X.drop(\"const\",axis=1).corr()[\"t1\"].plot(kind=\"bar\")"
   ]
  },
  {
   "cell_type": "markdown",
   "metadata": {},
   "source": [
    "Plot: Correlation between the variables and the removed variables t1. "
   ]
  },
  {
   "cell_type": "markdown",
   "metadata": {},
   "source": [
    "## (d) Continue to remove explanatory variables until all P-values are less than 0.05."
   ]
  },
  {
   "cell_type": "markdown",
   "metadata": {},
   "source": [
    "### Implementing an algorithm removing the highest P-value variable and then fitting a new model, continuing to remove variables until all has P-value lower than 0.05."
   ]
  },
  {
   "cell_type": "code",
   "execution_count": 18,
   "metadata": {},
   "outputs": [
    {
     "data": {
      "text/plain": [
       "[Index(['const', 'date', 't1', 't2', 'cap', 'pr', 'ne', 'ct', 'bw', 'cum.n',\n",
       "        'pt'],\n",
       "       dtype='object'),\n",
       " Index(['const', 'date', 't2', 'cap', 'pr', 'ne', 'ct', 'bw', 'cum.n', 'pt'], dtype='object'),\n",
       " Index(['const', 'date', 't2', 'cap', 'pr', 'ne', 'ct', 'cum.n', 'pt'], dtype='object'),\n",
       " Index(['const', 'date', 't2', 'cap', 'ne', 'ct', 'cum.n', 'pt'], dtype='object'),\n",
       " Index(['const', 'date', 'cap', 'ne', 'ct', 'cum.n', 'pt'], dtype='object'),\n",
       " Index(['const', 'date', 'cap', 'ne', 'ct', 'pt'], dtype='object'),\n",
       " Index(['const', 'date', 'cap', 'ne', 'pt'], dtype='object')]"
      ]
     },
     "execution_count": 18,
     "metadata": {},
     "output_type": "execute_result"
    }
   ],
   "source": [
    "linear_model = sm.OLS(y,X).fit()\n",
    "p_values = linear_model.pvalues\n",
    "\n",
    "max_p = (p_values.idxmax(),p_values.loc[p_values.idxmax()])\n",
    "\n",
    "features = X.columns\n",
    "features_list = []\n",
    "\n",
    "while max_p[1] > 0.05:\n",
    "    linear_model = sm.OLS(y,X[features]).fit()\n",
    "    p_values = linear_model.pvalues\n",
    "    max_p = (p_values.drop(\"const\").idxmax(), p_values.drop(\"const\").loc[p_values.drop(\"const\").idxmax()])\n",
    "   \n",
    "    features_list.append(features)    \n",
    "    features = features.drop(max_p[0])\n",
    "    \n",
    "\n",
    "p_value_model = linear_model\n",
    "\n",
    "features_list"
   ]
  },
  {
   "cell_type": "markdown",
   "metadata": {},
   "source": [
    "List: List of features in models trained after removing highest P-value variable. \n",
    "Last one being the final model. \\\n",
    "Below a summary of the final model."
   ]
  },
  {
   "cell_type": "code",
   "execution_count": 19,
   "metadata": {},
   "outputs": [
    {
     "data": {
      "text/html": [
       "<table class=\"simpletable\">\n",
       "<caption>OLS Regression Results</caption>\n",
       "<tr>\n",
       "  <th>Dep. Variable:</th>          <td>cost</td>       <th>  R-squared:         </th> <td>   0.810</td>\n",
       "</tr>\n",
       "<tr>\n",
       "  <th>Model:</th>                   <td>OLS</td>       <th>  Adj. R-squared:    </th> <td>   0.781</td>\n",
       "</tr>\n",
       "<tr>\n",
       "  <th>Method:</th>             <td>Least Squares</td>  <th>  F-statistic:       </th> <td>   28.70</td>\n",
       "</tr>\n",
       "<tr>\n",
       "  <th>Date:</th>             <td>Wed, 17 Feb 2021</td> <th>  Prob (F-statistic):</th> <td>2.25e-09</td>\n",
       "</tr>\n",
       "<tr>\n",
       "  <th>Time:</th>                 <td>22:17:12</td>     <th>  Log-Likelihood:    </th> <td>  12.774</td>\n",
       "</tr>\n",
       "<tr>\n",
       "  <th>No. Observations:</th>      <td>    32</td>      <th>  AIC:               </th> <td>  -15.55</td>\n",
       "</tr>\n",
       "<tr>\n",
       "  <th>Df Residuals:</th>          <td>    27</td>      <th>  BIC:               </th> <td>  -8.219</td>\n",
       "</tr>\n",
       "<tr>\n",
       "  <th>Df Model:</th>              <td>     4</td>      <th>                     </th>     <td> </td>   \n",
       "</tr>\n",
       "<tr>\n",
       "  <th>Covariance Type:</th>      <td>nonrobust</td>    <th>                     </th>     <td> </td>   \n",
       "</tr>\n",
       "</table>\n",
       "<table class=\"simpletable\">\n",
       "<tr>\n",
       "    <td></td>       <th>coef</th>     <th>std err</th>      <th>t</th>      <th>P>|t|</th>  <th>[0.025</th>    <th>0.975]</th>  \n",
       "</tr>\n",
       "<tr>\n",
       "  <th>const</th> <td>   -4.5036</td> <td>    2.502</td> <td>   -1.800</td> <td> 0.083</td> <td>   -9.638</td> <td>    0.631</td>\n",
       "</tr>\n",
       "<tr>\n",
       "  <th>date</th>  <td>    0.1439</td> <td>    0.036</td> <td>    3.961</td> <td> 0.000</td> <td>    0.069</td> <td>    0.218</td>\n",
       "</tr>\n",
       "<tr>\n",
       "  <th>cap</th>   <td>    0.0009</td> <td>    0.000</td> <td>    5.238</td> <td> 0.000</td> <td>    0.001</td> <td>    0.001</td>\n",
       "</tr>\n",
       "<tr>\n",
       "  <th>ne</th>    <td>    0.2024</td> <td>    0.075</td> <td>    2.692</td> <td> 0.012</td> <td>    0.048</td> <td>    0.357</td>\n",
       "</tr>\n",
       "<tr>\n",
       "  <th>pt</th>    <td>   -0.3965</td> <td>    0.096</td> <td>   -4.116</td> <td> 0.000</td> <td>   -0.594</td> <td>   -0.199</td>\n",
       "</tr>\n",
       "</table>\n",
       "<table class=\"simpletable\">\n",
       "<tr>\n",
       "  <th>Omnibus:</th>       <td> 1.143</td> <th>  Durbin-Watson:     </th> <td>   2.446</td>\n",
       "</tr>\n",
       "<tr>\n",
       "  <th>Prob(Omnibus):</th> <td> 0.565</td> <th>  Jarque-Bera (JB):  </th> <td>   0.296</td>\n",
       "</tr>\n",
       "<tr>\n",
       "  <th>Skew:</th>          <td>-0.053</td> <th>  Prob(JB):          </th> <td>   0.862</td>\n",
       "</tr>\n",
       "<tr>\n",
       "  <th>Kurtosis:</th>      <td> 3.459</td> <th>  Cond. No.          </th> <td>6.80e+04</td>\n",
       "</tr>\n",
       "</table><br/><br/>Notes:<br/>[1] Standard Errors assume that the covariance matrix of the errors is correctly specified.<br/>[2] The condition number is large, 6.8e+04. This might indicate that there are<br/>strong multicollinearity or other numerical problems."
      ],
      "text/plain": [
       "<class 'statsmodels.iolib.summary.Summary'>\n",
       "\"\"\"\n",
       "                            OLS Regression Results                            \n",
       "==============================================================================\n",
       "Dep. Variable:                   cost   R-squared:                       0.810\n",
       "Model:                            OLS   Adj. R-squared:                  0.781\n",
       "Method:                 Least Squares   F-statistic:                     28.70\n",
       "Date:                Wed, 17 Feb 2021   Prob (F-statistic):           2.25e-09\n",
       "Time:                        22:17:12   Log-Likelihood:                 12.774\n",
       "No. Observations:                  32   AIC:                            -15.55\n",
       "Df Residuals:                      27   BIC:                            -8.219\n",
       "Df Model:                           4                                         \n",
       "Covariance Type:            nonrobust                                         \n",
       "==============================================================================\n",
       "                 coef    std err          t      P>|t|      [0.025      0.975]\n",
       "------------------------------------------------------------------------------\n",
       "const         -4.5036      2.502     -1.800      0.083      -9.638       0.631\n",
       "date           0.1439      0.036      3.961      0.000       0.069       0.218\n",
       "cap            0.0009      0.000      5.238      0.000       0.001       0.001\n",
       "ne             0.2024      0.075      2.692      0.012       0.048       0.357\n",
       "pt            -0.3965      0.096     -4.116      0.000      -0.594      -0.199\n",
       "==============================================================================\n",
       "Omnibus:                        1.143   Durbin-Watson:                   2.446\n",
       "Prob(Omnibus):                  0.565   Jarque-Bera (JB):                0.296\n",
       "Skew:                          -0.053   Prob(JB):                        0.862\n",
       "Kurtosis:                       3.459   Cond. No.                     6.80e+04\n",
       "==============================================================================\n",
       "\n",
       "Notes:\n",
       "[1] Standard Errors assume that the covariance matrix of the errors is correctly specified.\n",
       "[2] The condition number is large, 6.8e+04. This might indicate that there are\n",
       "strong multicollinearity or other numerical problems.\n",
       "\"\"\""
      ]
     },
     "execution_count": 19,
     "metadata": {},
     "output_type": "execute_result"
    }
   ],
   "source": [
    "linear_model.summary()"
   ]
  },
  {
   "cell_type": "markdown",
   "metadata": {},
   "source": [
    "### Plotting the residuals agains the predicted values with the y-axis scaled to the values of y shows predictions that seems to have quite small errors. "
   ]
  },
  {
   "cell_type": "code",
   "execution_count": 20,
   "metadata": {},
   "outputs": [
    {
     "data": {
      "text/plain": [
       "(-6.781330006544365, 6.781330006544365)"
      ]
     },
     "execution_count": 20,
     "metadata": {},
     "output_type": "execute_result"
    },
    {
     "data": {
      "image/png": "[encoded data removed]",
      "text/plain": [
       "<Figure size 864x576 with 1 Axes>"
      ]
     },
     "metadata": {
      "needs_background": "light"
     },
     "output_type": "display_data"
    }
   ],
   "source": [
    "residuals = linear_model.resid\n",
    "predictions = linear_model.fittedvalues\n",
    "\n",
    "plt.figure(figsize=(12,8))\n",
    "sns.scatterplot(x=predictions,y=residuals)\n",
    "plt.ylim(-y.max(),y.max())"
   ]
  },
  {
   "cell_type": "markdown",
   "metadata": {},
   "source": [
    "Plot: Plot of residuals against predicted values"
   ]
  },
  {
   "cell_type": "markdown",
   "metadata": {},
   "source": [
    "### Looking at the scatter matrix it seems that there are some correlation between response variable and the variables date and cap. \n",
    "### The binary variables seems to be skewed to one side. "
   ]
  },
  {
   "cell_type": "code",
   "execution_count": 21,
   "metadata": {},
   "outputs": [
    {
     "data": {
      "image/png": "[encoded data removed]",
      "text/plain": [
       "<Figure size 1152x576 with 25 Axes>"
      ]
     },
     "metadata": {
      "needs_background": "light"
     },
     "output_type": "display_data"
    }
   ],
   "source": [
    "features =features_list[-1]\n",
    "[\"cost\"]+features.drop(\"const\").to_list()\n",
    "\n",
    "pd.plotting.scatter_matrix(df[[\"cost\"]+features.drop(\"const\").to_list()],\n",
    "                           figsize=(16,8))\n",
    "plt.show()"
   ]
  },
  {
   "cell_type": "markdown",
   "metadata": {},
   "source": [
    "## (e) Use the final model to predict response and make a model based on the average quadratic error"
   ]
  },
  {
   "cell_type": "markdown",
   "metadata": {},
   "source": [
    "### The MSE score seemd to be quite low. \n",
    "### Uncertain what procedure to discuss here."
   ]
  },
  {
   "cell_type": "code",
   "execution_count": 22,
   "metadata": {},
   "outputs": [
    {
     "name": "stdout",
     "output_type": "stream",
     "text": [
      "Mean squared error is: 0.02635123691729991\n"
     ]
    }
   ],
   "source": [
    "predictions = linear_model.predict(X[linear_model.params.index])\n",
    "MSE = (sum(( y - predictions)**2)) / n\n",
    "print(f\"Mean squared error is: {MSE}\")"
   ]
  },
  {
   "cell_type": "markdown",
   "metadata": {},
   "source": [
    "## (f) Show that AIC and BIC are equal to (LM.BIC) and (LM.BIC) for the linear regression model with Gaussian noise."
   ]
  },
  {
   "cell_type": "code",
   "execution_count": null,
   "metadata": {},
   "outputs": [],
   "source": []
  },
  {
   "cell_type": "code",
   "execution_count": null,
   "metadata": {},
   "outputs": [],
   "source": []
  },
  {
   "cell_type": "code",
   "execution_count": null,
   "metadata": {},
   "outputs": [],
   "source": []
  },
  {
   "cell_type": "code",
   "execution_count": null,
   "metadata": {},
   "outputs": [],
   "source": []
  },
  {
   "cell_type": "code",
   "execution_count": null,
   "metadata": {},
   "outputs": [],
   "source": []
  },
  {
   "cell_type": "code",
   "execution_count": null,
   "metadata": {},
   "outputs": [],
   "source": []
  },
  {
   "cell_type": "code",
   "execution_count": null,
   "metadata": {},
   "outputs": [],
   "source": []
  },
  {
   "cell_type": "code",
   "execution_count": null,
   "metadata": {},
   "outputs": [],
   "source": []
  },
  {
   "cell_type": "markdown",
   "metadata": {},
   "source": [
    "## (g) Try out the automatic model selection command on the nuclear dataset both using AIC and BIC. Which models do you end up with then?\n"
   ]
  },
  {
   "cell_type": "code",
   "execution_count": 23,
   "metadata": {},
   "outputs": [
    {
     "data": {
      "text/plain": [
       "(32, 11)"
      ]
     },
     "execution_count": 23,
     "metadata": {},
     "output_type": "execute_result"
    }
   ],
   "source": [
    "X.shape"
   ]
  },
  {
   "cell_type": "code",
   "execution_count": 24,
   "metadata": {},
   "outputs": [],
   "source": [
    "def stepwise_selection(param):\n",
    "\n",
    "    linear_model = sm.OLS(y,X).fit()\n",
    "    if param == \"AIC\":\n",
    "        last_AIC = linear_model.aic \n",
    "    elif param == \"BIC\":\n",
    "        last_AIC = linear_model.bic\n",
    "    features = X.columns.drop(\"const\")\n",
    "    AIC_list = []\n",
    "    while 1 > 0:\n",
    "        AIC_list = []\n",
    "        for f in features:\n",
    "            lm = sm.OLS(y,X.drop(f, axis = 1)).fit()\n",
    "            \n",
    "            if param == \"AIC\":\n",
    "                \n",
    "                AIC = lm.aic\n",
    "            elif param == \"BIC\":\n",
    "                AIC = lm.bic\n",
    "            AIC_list.append((f,AIC))\n",
    "\n",
    "        AIC_ = pd.DataFrame(AIC_list,columns=[\"Feature\",f\"{param}\"]).sort_values(f\"{param}\")\n",
    "        print(AIC_.T.sort_index(axis=1))\n",
    "\n",
    "        if AIC_.iloc[0][f\"{param}\"] < last_AIC:\n",
    "            features = features.drop(AIC_.iloc[0].Feature)\n",
    "        else:\n",
    "            lm = sm.OLS(y,X[features.insert(0,\"const\")]).fit()\n",
    "            return lm\n",
    "            break\n",
    "           "
   ]
  },
  {
   "cell_type": "code",
   "execution_count": 25,
   "metadata": {},
   "outputs": [
    {
     "name": "stdout",
     "output_type": "stream",
     "text": [
      "               0        1       2        3        4        5        6  \\\n",
      "Feature     date       t1      t2      cap       pr       ne       ct   \n",
      "AIC     -7.09533 -16.1179 -14.011  8.04219 -13.7443 -3.00329 -12.3275   \n",
      "\n",
      "               7        8        9  \n",
      "Feature       bw    cum.n       pt  \n",
      "AIC     -16.0202 -12.7947 -12.0673  \n",
      "               0       1        2        3        4        5        6  \\\n",
      "Feature     date      t2      cap       pr       ne       ct       bw   \n",
      "AIC     -7.09533 -14.011  8.04219 -13.7443 -3.00329 -12.3275 -16.0202   \n",
      "\n",
      "               7        8  \n",
      "Feature    cum.n       pt  \n",
      "AIC     -12.7947 -12.0673  \n",
      "               0       1        2        3        4        5        6        7\n",
      "Feature     date      t2      cap       pr       ne       ct    cum.n       pt\n",
      "AIC     -7.09533 -14.011  8.04219 -13.7443 -3.00329 -12.3275 -12.7947 -12.0673\n"
     ]
    }
   ],
   "source": [
    "AIC_model = stepwise_selection(\"AIC\")"
   ]
  },
  {
   "cell_type": "code",
   "execution_count": 26,
   "metadata": {},
   "outputs": [
    {
     "name": "stdout",
     "output_type": "stream",
     "text": [
      "               0        1         2        3         4        5        6  \\\n",
      "Feature     date       t1        t2      cap        pr       ne       ct   \n",
      "BIC      7.56203 -1.46057  0.646329  22.6996  0.913029  11.6541  2.32989   \n",
      "\n",
      "               7        8        9  \n",
      "Feature       bw    cum.n       pt  \n",
      "BIC     -1.36281  1.86266  2.59003  \n",
      "               0         1        2         3        4        5        6  \\\n",
      "Feature     date        t2      cap        pr       ne       ct       bw   \n",
      "BIC      7.56203  0.646329  22.6996  0.913029  11.6541  2.32989 -1.36281   \n",
      "\n",
      "               7        8  \n",
      "Feature    cum.n       pt  \n",
      "BIC      1.86266  2.59003  \n",
      "               0         1        2         3        4        5        6  \\\n",
      "Feature     date        t2      cap        pr       ne       ct    cum.n   \n",
      "BIC      7.56203  0.646329  22.6996  0.913029  11.6541  2.32989  1.86266   \n",
      "\n",
      "               7  \n",
      "Feature       pt  \n",
      "BIC      2.59003  \n",
      "               0        1         2        3        4        5        6\n",
      "Feature     date      cap        pr       ne       ct    cum.n       pt\n",
      "BIC      7.56203  22.6996  0.913029  11.6541  2.32989  1.86266  2.59003\n",
      "               0        1        2        3        4        5\n",
      "Feature     date      cap       ne       ct    cum.n       pt\n",
      "BIC      7.56203  22.6996  11.6541  2.32989  1.86266  2.59003\n",
      "               0        1        2        3        4\n",
      "Feature     date      cap       ne       ct       pt\n",
      "BIC      7.56203  22.6996  11.6541  2.32989  2.59003\n"
     ]
    }
   ],
   "source": [
    "BIC_model = stepwise_selection(\"BIC\")"
   ]
  },
  {
   "cell_type": "markdown",
   "metadata": {},
   "source": [
    "## (h) Have a look on the order of which the two different methods select models. Explain why the order should be the same for AIC and BIC."
   ]
  },
  {
   "cell_type": "markdown",
   "metadata": {},
   "source": [
    "### It is the same models selected by both AIC and BIC methods. But the BIC selects two more models after AIC and produces a smaller model, a model with fewer features. \n",
    "### The model has quite few samples, 32 in total and 10 features. This makes for n not very big compared to p and the penalty in the BIC model is not significant compared to the one for AIC. "
   ]
  },
  {
   "cell_type": "markdown",
   "metadata": {},
   "source": [
    "### ----------------------------------------------------"
   ]
  },
  {
   "cell_type": "markdown",
   "metadata": {},
   "source": [
    "## (i) Discuss potential differences compared with the manual selection based on the P-values (both with respect to the order they are selected and the number of variables that are included in the end)."
   ]
  },
  {
   "cell_type": "markdown",
   "metadata": {},
   "source": [
    "### All three methods seems to select features in the same order. The AIC ends its search with 8 features compared to the BIC method with 5 features. The model selection based on P-values picked the same models as AIC and BIC methods but narrowed it even further to 4 features. Based on $R^2$ score the best model seems to be the one selected by AIC method, then BIC and last P-value based selection."
   ]
  },
  {
   "cell_type": "code",
   "execution_count": 30,
   "metadata": {},
   "outputs": [
    {
     "data": {
      "text/plain": [
       "0.8095692530236496"
      ]
     },
     "execution_count": 30,
     "metadata": {},
     "output_type": "execute_result"
    }
   ],
   "source": [
    "p_value_model.rsquared"
   ]
  },
  {
   "cell_type": "markdown",
   "metadata": {},
   "source": [
    "$R^2$ for model selected on P-values"
   ]
  },
  {
   "cell_type": "code",
   "execution_count": 31,
   "metadata": {},
   "outputs": [
    {
     "data": {
      "text/plain": [
       "0.8626571839006298"
      ]
     },
     "execution_count": 31,
     "metadata": {},
     "output_type": "execute_result"
    }
   ],
   "source": [
    "AIC_model.rsquared"
   ]
  },
  {
   "cell_type": "markdown",
   "metadata": {},
   "source": [
    "$R^2$ for model selected on AIC"
   ]
  },
  {
   "cell_type": "code",
   "execution_count": 32,
   "metadata": {},
   "outputs": [
    {
     "data": {
      "text/plain": [
       "0.830610293207663"
      ]
     },
     "execution_count": 32,
     "metadata": {},
     "output_type": "execute_result"
    }
   ],
   "source": [
    "BIC_model.rsquared"
   ]
  },
  {
   "cell_type": "markdown",
   "metadata": {},
   "source": [
    "$R^2$ for model selected on BIC"
   ]
  },
  {
   "cell_type": "code",
   "execution_count": 28,
   "metadata": {},
   "outputs": [
    {
     "data": {
      "text/plain": [
       "[Index(['const', 'date', 't1', 't2', 'cap', 'pr', 'ne', 'ct', 'bw', 'cum.n',\n",
       "        'pt'],\n",
       "       dtype='object'),\n",
       " Index(['const', 'date', 't2', 'cap', 'pr', 'ne', 'ct', 'bw', 'cum.n', 'pt'], dtype='object'),\n",
       " Index(['const', 'date', 't2', 'cap', 'pr', 'ne', 'ct', 'cum.n', 'pt'], dtype='object'),\n",
       " Index(['const', 'date', 't2', 'cap', 'ne', 'ct', 'cum.n', 'pt'], dtype='object'),\n",
       " Index(['const', 'date', 'cap', 'ne', 'ct', 'cum.n', 'pt'], dtype='object'),\n",
       " Index(['const', 'date', 'cap', 'ne', 'ct', 'pt'], dtype='object'),\n",
       " Index(['const', 'date', 'cap', 'ne', 'pt'], dtype='object')]"
      ]
     },
     "execution_count": 28,
     "metadata": {},
     "output_type": "execute_result"
    }
   ],
   "source": [
    "features_list"
   ]
  },
  {
   "cell_type": "markdown",
   "metadata": {},
   "source": [
    "List of models based on P-values"
   ]
  },
  {
   "cell_type": "markdown",
   "metadata": {},
   "source": [
    "### ---------------------------------------------------------------"
   ]
  },
  {
   "cell_type": "markdown",
   "metadata": {},
   "source": [
    "## (j) Show that if Z ∼ N(µ, σ2) , then E[exp(Z)] = exp(µ + 0.5σ2). Use this to argue that we have two possible estimates of η:"
   ]
  },
  {
   "cell_type": "markdown",
   "metadata": {},
   "source": [
    "### Problem (j) I am not able to solve. "
   ]
  },
  {
   "cell_type": "markdown",
   "metadata": {},
   "source": [
    "## (k) Perform predictions based on the three choosen modes you obtained earlier"
   ]
  },
  {
   "cell_type": "markdown",
   "metadata": {},
   "source": [
    "#### The predictions from the three different models are different. And the values are in increasing order lowest from P-value model, then BIC and then AIC. This is the same as the $R^2$ scoring suggested. The values predicted seems quite reasonable comparing it to the original dataset. "
   ]
  },
  {
   "cell_type": "code",
   "execution_count": 85,
   "metadata": {},
   "outputs": [],
   "source": [
    "new_datapoint = pd.DataFrame(\n",
    "                   {\"const\":1,\n",
    "                    \"date\":70.0,\n",
    "                    \"t1\":13,\n",
    "                    \"t2\":50,\n",
    "                    \"cap\":800,\n",
    "                    \"pr\":1,\n",
    "                    \"ne\":0,\n",
    "                    \"ct\":0,\n",
    "                    \"bw\":1,\n",
    "                    \"cum.n\":8,\n",
    "                    \"pt\":1},index=[0])"
   ]
  },
  {
   "cell_type": "code",
   "execution_count": 86,
   "metadata": {},
   "outputs": [
    {
     "data": {
      "text/html": [
       "<div>\n",
       "<style scoped>\n",
       "    .dataframe tbody tr th:only-of-type {\n",
       "        vertical-align: middle;\n",
       "    }\n",
       "\n",
       "    .dataframe tbody tr th {\n",
       "        vertical-align: top;\n",
       "    }\n",
       "\n",
       "    .dataframe thead th {\n",
       "        text-align: right;\n",
       "    }\n",
       "</style>\n",
       "<table border=\"1\" class=\"dataframe\">\n",
       "  <thead>\n",
       "    <tr style=\"text-align: right;\">\n",
       "      <th></th>\n",
       "      <th>const</th>\n",
       "      <th>date</th>\n",
       "      <th>t1</th>\n",
       "      <th>t2</th>\n",
       "      <th>cap</th>\n",
       "      <th>pr</th>\n",
       "      <th>ne</th>\n",
       "      <th>ct</th>\n",
       "      <th>bw</th>\n",
       "      <th>cum.n</th>\n",
       "      <th>pt</th>\n",
       "    </tr>\n",
       "  </thead>\n",
       "  <tbody>\n",
       "    <tr>\n",
       "      <th>0</th>\n",
       "      <td>1</td>\n",
       "      <td>70.0</td>\n",
       "      <td>13</td>\n",
       "      <td>50</td>\n",
       "      <td>800</td>\n",
       "      <td>1</td>\n",
       "      <td>0</td>\n",
       "      <td>0</td>\n",
       "      <td>1</td>\n",
       "      <td>8</td>\n",
       "      <td>1</td>\n",
       "    </tr>\n",
       "  </tbody>\n",
       "</table>\n",
       "</div>"
      ],
      "text/plain": [
       "   const  date  t1  t2  cap  pr  ne  ct  bw  cum.n  pt\n",
       "0      1  70.0  13  50  800   1   0   0   1      8   1"
      ]
     },
     "execution_count": 86,
     "metadata": {},
     "output_type": "execute_result"
    }
   ],
   "source": [
    "new_datapoint"
   ]
  },
  {
   "cell_type": "markdown",
   "metadata": {},
   "source": [
    "Table: New datapoint"
   ]
  },
  {
   "cell_type": "code",
   "execution_count": 87,
   "metadata": {},
   "outputs": [
    {
     "data": {
      "text/html": [
       "<div>\n",
       "<style scoped>\n",
       "    .dataframe tbody tr th:only-of-type {\n",
       "        vertical-align: middle;\n",
       "    }\n",
       "\n",
       "    .dataframe tbody tr th {\n",
       "        vertical-align: top;\n",
       "    }\n",
       "\n",
       "    .dataframe thead th {\n",
       "        text-align: right;\n",
       "    }\n",
       "</style>\n",
       "<table border=\"1\" class=\"dataframe\">\n",
       "  <thead>\n",
       "    <tr style=\"text-align: right;\">\n",
       "      <th></th>\n",
       "      <th>0</th>\n",
       "      <th>1</th>\n",
       "      <th>2</th>\n",
       "      <th>3</th>\n",
       "      <th>4</th>\n",
       "      <th>5</th>\n",
       "      <th>6</th>\n",
       "      <th>7</th>\n",
       "      <th>8</th>\n",
       "    </tr>\n",
       "  </thead>\n",
       "  <tbody>\n",
       "    <tr>\n",
       "      <th>AIC Model</th>\n",
       "      <td>const</td>\n",
       "      <td>date</td>\n",
       "      <td>t2</td>\n",
       "      <td>cap</td>\n",
       "      <td>pr</td>\n",
       "      <td>ne</td>\n",
       "      <td>ct</td>\n",
       "      <td>cum.n</td>\n",
       "      <td>pt</td>\n",
       "    </tr>\n",
       "    <tr>\n",
       "      <th>BIC Model</th>\n",
       "      <td>const</td>\n",
       "      <td>date</td>\n",
       "      <td>cap</td>\n",
       "      <td>ne</td>\n",
       "      <td>ct</td>\n",
       "      <td>pt</td>\n",
       "      <td>None</td>\n",
       "      <td>None</td>\n",
       "      <td>None</td>\n",
       "    </tr>\n",
       "    <tr>\n",
       "      <th>P-value Model</th>\n",
       "      <td>const</td>\n",
       "      <td>date</td>\n",
       "      <td>cap</td>\n",
       "      <td>ne</td>\n",
       "      <td>pt</td>\n",
       "      <td>None</td>\n",
       "      <td>None</td>\n",
       "      <td>None</td>\n",
       "      <td>None</td>\n",
       "    </tr>\n",
       "  </tbody>\n",
       "</table>\n",
       "</div>"
      ],
      "text/plain": [
       "                   0     1    2    3   4     5     6      7     8\n",
       "AIC Model      const  date   t2  cap  pr    ne    ct  cum.n    pt\n",
       "BIC Model      const  date  cap   ne  ct    pt  None   None  None\n",
       "P-value Model  const  date  cap   ne  pt  None  None   None  None"
      ]
     },
     "execution_count": 87,
     "metadata": {},
     "output_type": "execute_result"
    }
   ],
   "source": [
    "p_value_model_features = p_value_model.params.index\n",
    "AIC_model_features = AIC_model.params.index\n",
    "BIC_model_features = BIC_model.params.index\n",
    "pd.DataFrame([AIC_model_features,BIC_model_features,p_value_model_features],index=[\"AIC Model\",\"BIC Model\",\"P-value Model\"])"
   ]
  },
  {
   "cell_type": "markdown",
   "metadata": {},
   "source": [
    "Table: Features included in the three models used to predict the new datapoint"
   ]
  },
  {
   "cell_type": "code",
   "execution_count": 88,
   "metadata": {},
   "outputs": [
    {
     "data": {
      "text/plain": [
       "0    5.968446\n",
       "dtype: float64"
      ]
     },
     "execution_count": 88,
     "metadata": {},
     "output_type": "execute_result"
    }
   ],
   "source": [
    "AIC_model.predict(new_datapoint[AIC_model_features])"
   ]
  },
  {
   "cell_type": "code",
   "execution_count": 89,
   "metadata": {},
   "outputs": [
    {
     "data": {
      "text/html": [
       "<div>\n",
       "<style scoped>\n",
       "    .dataframe tbody tr th:only-of-type {\n",
       "        vertical-align: middle;\n",
       "    }\n",
       "\n",
       "    .dataframe tbody tr th {\n",
       "        vertical-align: top;\n",
       "    }\n",
       "\n",
       "    .dataframe thead th {\n",
       "        text-align: right;\n",
       "    }\n",
       "</style>\n",
       "<table border=\"1\" class=\"dataframe\">\n",
       "  <thead>\n",
       "    <tr style=\"text-align: right;\">\n",
       "      <th></th>\n",
       "      <th>AIC Model</th>\n",
       "      <th>BIC Model</th>\n",
       "      <th>P-value Model</th>\n",
       "    </tr>\n",
       "  </thead>\n",
       "  <tbody>\n",
       "    <tr>\n",
       "      <th>log(cost)</th>\n",
       "      <td>5.968446</td>\n",
       "      <td>5.888265</td>\n",
       "      <td>5.876308</td>\n",
       "    </tr>\n",
       "    <tr>\n",
       "      <th>cost</th>\n",
       "      <td>390.897773</td>\n",
       "      <td>360.778910</td>\n",
       "      <td>356.490489</td>\n",
       "    </tr>\n",
       "  </tbody>\n",
       "</table>\n",
       "</div>"
      ],
      "text/plain": [
       "            AIC Model   BIC Model  P-value Model\n",
       "log(cost)    5.968446    5.888265       5.876308\n",
       "cost       390.897773  360.778910     356.490489"
      ]
     },
     "execution_count": 89,
     "metadata": {},
     "output_type": "execute_result"
    }
   ],
   "source": [
    "predictions_ = {\"AIC Model\": AIC_model.predict(new_datapoint[AIC_model_features]),\n",
    "               \"BIC Model\":BIC_model.predict(new_datapoint[BIC_model_features]),\n",
    "               \"P-value Model\": p_value_model.predict(new_datapoint[p_value_model_features])}\n",
    "\n",
    "pred_df =pd.DataFrame(predictions_)#.append(pd.DataFrame(predictions_,index=[C]).apply(np.exp))\n",
    "pred_df = pred_df.append(pd.DataFrame(predictions_).apply(np.exp))\n",
    "pred_df.set_axis([\"log(cost)\",\"cost\"],inplace=True)\n",
    "pred_df"
   ]
  },
  {
   "cell_type": "markdown",
   "metadata": {},
   "source": [
    "Table: Predictions for cost variable for the new datapoint."
   ]
  }
 ],
 "metadata": {
  "kernelspec": {
   "display_name": "Python 3",
   "language": "python",
   "name": "python3"
  },
  "language_info": {
   "codemirror_mode": {
    "name": "ipython",
    "version": 3
   },
   "file_extension": ".py",
   "mimetype": "text/x-python",
   "name": "python",
   "nbconvert_exporter": "python",
   "pygments_lexer": "ipython3",
   "version": "3.8.6"
  }
 },
 "nbformat": 4,
 "nbformat_minor": 4
}
