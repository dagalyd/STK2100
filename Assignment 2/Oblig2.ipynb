{
 "cells": [
  {
   "cell_type": "markdown",
   "metadata": {},
   "source": [
    "## Dag Arne Lydvo\n",
    "## STK2100\n",
    "## Mandatory assignment 2 of 2"
   ]
  },
  {
   "cell_type": "code",
   "execution_count": 1,
   "metadata": {},
   "outputs": [],
   "source": [
    "import pandas as pd \n",
    "import numpy as np \n",
    "import matplotlib.pyplot as plt\n",
    "\n",
    "from sklearn.linear_model import LogisticRegression\n",
    "from sklearn.metrics import accuracy_score\n",
    "from sklearn.preprocessing import StandardScaler,Normalizer\n",
    "from sklearn.decomposition import PCA\n",
    "\n",
    "from pygam import GAM,LogisticGAM, s, f, LinearGAM"
   ]
  },
  {
   "cell_type": "markdown",
   "metadata": {},
   "source": [
    "## Reading the data"
   ]
  },
  {
   "cell_type": "markdown",
   "metadata": {},
   "source": [
    "We are reading the data into a dataframe from the url, then\n",
    "dividing it into train and test set. \n",
    "\n",
    "Then splitting the data into X frames for the explanatory variables and y frames for the response variables.\n",
    "The training sets consists of 1536 instances and the test set of 3065. "
   ]
  },
  {
   "cell_type": "code",
   "execution_count": 2,
   "metadata": {},
   "outputs": [],
   "source": [
    "df = pd.read_table(\"https://www.uio.no/studier/emner/matnat/math/STK2100/data/spam_data.txt\",sep=\" \")"
   ]
  },
  {
   "cell_type": "code",
   "execution_count": 3,
   "metadata": {},
   "outputs": [],
   "source": [
    "train = df.loc[df.train == True].drop(\"train\",axis=1)\n",
    "test = df.loc[df.train != True].drop(\"train\",axis=1)"
   ]
  },
  {
   "cell_type": "code",
   "execution_count": 4,
   "metadata": {},
   "outputs": [
    {
     "data": {
      "text/html": [
       "<div>\n",
       "<style scoped>\n",
       "    .dataframe tbody tr th:only-of-type {\n",
       "        vertical-align: middle;\n",
       "    }\n",
       "\n",
       "    .dataframe tbody tr th {\n",
       "        vertical-align: top;\n",
       "    }\n",
       "\n",
       "    .dataframe thead th {\n",
       "        text-align: right;\n",
       "    }\n",
       "</style>\n",
       "<table border=\"1\" class=\"dataframe\">\n",
       "  <thead>\n",
       "    <tr style=\"text-align: right;\">\n",
       "      <th></th>\n",
       "      <th>x1</th>\n",
       "      <th>x2</th>\n",
       "      <th>x3</th>\n",
       "      <th>x4</th>\n",
       "      <th>x5</th>\n",
       "      <th>x6</th>\n",
       "      <th>x7</th>\n",
       "      <th>x8</th>\n",
       "      <th>x9</th>\n",
       "      <th>x10</th>\n",
       "      <th>...</th>\n",
       "      <th>x49</th>\n",
       "      <th>x50</th>\n",
       "      <th>x51</th>\n",
       "      <th>x52</th>\n",
       "      <th>x53</th>\n",
       "      <th>x54</th>\n",
       "      <th>x55</th>\n",
       "      <th>x56</th>\n",
       "      <th>x57</th>\n",
       "      <th>y</th>\n",
       "    </tr>\n",
       "  </thead>\n",
       "  <tbody>\n",
       "    <tr>\n",
       "      <th>0</th>\n",
       "      <td>0.00</td>\n",
       "      <td>0.64</td>\n",
       "      <td>0.64</td>\n",
       "      <td>0.0</td>\n",
       "      <td>0.32</td>\n",
       "      <td>0.00</td>\n",
       "      <td>0.00</td>\n",
       "      <td>0.00</td>\n",
       "      <td>0.00</td>\n",
       "      <td>0.00</td>\n",
       "      <td>...</td>\n",
       "      <td>0.00</td>\n",
       "      <td>0.000</td>\n",
       "      <td>0.0</td>\n",
       "      <td>0.778</td>\n",
       "      <td>0.000</td>\n",
       "      <td>0.000</td>\n",
       "      <td>3.756</td>\n",
       "      <td>61</td>\n",
       "      <td>278</td>\n",
       "      <td>True</td>\n",
       "    </tr>\n",
       "    <tr>\n",
       "      <th>2</th>\n",
       "      <td>0.06</td>\n",
       "      <td>0.00</td>\n",
       "      <td>0.71</td>\n",
       "      <td>0.0</td>\n",
       "      <td>1.23</td>\n",
       "      <td>0.19</td>\n",
       "      <td>0.19</td>\n",
       "      <td>0.12</td>\n",
       "      <td>0.64</td>\n",
       "      <td>0.25</td>\n",
       "      <td>...</td>\n",
       "      <td>0.01</td>\n",
       "      <td>0.143</td>\n",
       "      <td>0.0</td>\n",
       "      <td>0.276</td>\n",
       "      <td>0.184</td>\n",
       "      <td>0.010</td>\n",
       "      <td>9.821</td>\n",
       "      <td>485</td>\n",
       "      <td>2259</td>\n",
       "      <td>True</td>\n",
       "    </tr>\n",
       "    <tr>\n",
       "      <th>8</th>\n",
       "      <td>0.15</td>\n",
       "      <td>0.00</td>\n",
       "      <td>0.46</td>\n",
       "      <td>0.0</td>\n",
       "      <td>0.61</td>\n",
       "      <td>0.00</td>\n",
       "      <td>0.30</td>\n",
       "      <td>0.00</td>\n",
       "      <td>0.92</td>\n",
       "      <td>0.76</td>\n",
       "      <td>...</td>\n",
       "      <td>0.00</td>\n",
       "      <td>0.271</td>\n",
       "      <td>0.0</td>\n",
       "      <td>0.181</td>\n",
       "      <td>0.203</td>\n",
       "      <td>0.022</td>\n",
       "      <td>9.744</td>\n",
       "      <td>445</td>\n",
       "      <td>1257</td>\n",
       "      <td>True</td>\n",
       "    </tr>\n",
       "    <tr>\n",
       "      <th>9</th>\n",
       "      <td>0.06</td>\n",
       "      <td>0.12</td>\n",
       "      <td>0.77</td>\n",
       "      <td>0.0</td>\n",
       "      <td>0.19</td>\n",
       "      <td>0.32</td>\n",
       "      <td>0.38</td>\n",
       "      <td>0.00</td>\n",
       "      <td>0.06</td>\n",
       "      <td>0.00</td>\n",
       "      <td>...</td>\n",
       "      <td>0.04</td>\n",
       "      <td>0.030</td>\n",
       "      <td>0.0</td>\n",
       "      <td>0.244</td>\n",
       "      <td>0.081</td>\n",
       "      <td>0.000</td>\n",
       "      <td>1.729</td>\n",
       "      <td>43</td>\n",
       "      <td>749</td>\n",
       "      <td>True</td>\n",
       "    </tr>\n",
       "    <tr>\n",
       "      <th>12</th>\n",
       "      <td>0.00</td>\n",
       "      <td>0.69</td>\n",
       "      <td>0.34</td>\n",
       "      <td>0.0</td>\n",
       "      <td>0.34</td>\n",
       "      <td>0.00</td>\n",
       "      <td>0.00</td>\n",
       "      <td>0.00</td>\n",
       "      <td>0.00</td>\n",
       "      <td>0.00</td>\n",
       "      <td>...</td>\n",
       "      <td>0.00</td>\n",
       "      <td>0.056</td>\n",
       "      <td>0.0</td>\n",
       "      <td>0.786</td>\n",
       "      <td>0.000</td>\n",
       "      <td>0.000</td>\n",
       "      <td>3.728</td>\n",
       "      <td>61</td>\n",
       "      <td>261</td>\n",
       "      <td>True</td>\n",
       "    </tr>\n",
       "  </tbody>\n",
       "</table>\n",
       "<p>5 rows × 58 columns</p>\n",
       "</div>"
      ],
      "text/plain": [
       "      x1    x2    x3   x4    x5    x6    x7    x8    x9   x10  ...   x49  \\\n",
       "0   0.00  0.64  0.64  0.0  0.32  0.00  0.00  0.00  0.00  0.00  ...  0.00   \n",
       "2   0.06  0.00  0.71  0.0  1.23  0.19  0.19  0.12  0.64  0.25  ...  0.01   \n",
       "8   0.15  0.00  0.46  0.0  0.61  0.00  0.30  0.00  0.92  0.76  ...  0.00   \n",
       "9   0.06  0.12  0.77  0.0  0.19  0.32  0.38  0.00  0.06  0.00  ...  0.04   \n",
       "12  0.00  0.69  0.34  0.0  0.34  0.00  0.00  0.00  0.00  0.00  ...  0.00   \n",
       "\n",
       "      x50  x51    x52    x53    x54    x55  x56   x57     y  \n",
       "0   0.000  0.0  0.778  0.000  0.000  3.756   61   278  True  \n",
       "2   0.143  0.0  0.276  0.184  0.010  9.821  485  2259  True  \n",
       "8   0.271  0.0  0.181  0.203  0.022  9.744  445  1257  True  \n",
       "9   0.030  0.0  0.244  0.081  0.000  1.729   43   749  True  \n",
       "12  0.056  0.0  0.786  0.000  0.000  3.728   61   261  True  \n",
       "\n",
       "[5 rows x 58 columns]"
      ]
     },
     "execution_count": 4,
     "metadata": {},
     "output_type": "execute_result"
    }
   ],
   "source": [
    "train.head()"
   ]
  },
  {
   "cell_type": "code",
   "execution_count": 5,
   "metadata": {},
   "outputs": [],
   "source": [
    "X_train = train.drop(\"y\",axis=1)\n",
    "X_test = test.drop(\"y\",axis=1)\n",
    "\n",
    "y_train = train.loc[:,\"y\"]\n",
    "y_test = test.loc[:,\"y\"]"
   ]
  },
  {
   "cell_type": "code",
   "execution_count": 6,
   "metadata": {},
   "outputs": [
    {
     "name": "stdout",
     "output_type": "stream",
     "text": [
      "Shapes:\n",
      "X_train: (1536, 57) | y_train: (1536,)\n",
      "X_test: (3065, 57) | y_test: (3065,)\n"
     ]
    }
   ],
   "source": [
    "print(f\"Shapes:\\nX_train: {X_train.shape} | y_train: {y_train.shape}\\nX_test: {X_test.shape} | y_test: {y_test.shape}\")"
   ]
  },
  {
   "cell_type": "markdown",
   "metadata": {},
   "source": [
    "## Problem a)"
   ]
  },
  {
   "cell_type": "markdown",
   "metadata": {},
   "source": [
    "Fitting a logistic regression model to the training data and the predict using the X_test set. \n",
    "For scoring I am using the accuracy_score function from the Scikit-learn library. \\\n",
    "The model seems to be doing fairly well at 92.1 % accuracy."
   ]
  },
  {
   "cell_type": "code",
   "execution_count": 7,
   "metadata": {},
   "outputs": [
    {
     "name": "stdout",
     "output_type": "stream",
     "text": [
      "Accuracy score: 92.10%\n"
     ]
    }
   ],
   "source": [
    "fit = LogisticRegression(max_iter=1e4).fit(X_train,y_train)\n",
    "\n",
    "pred = fit.predict(X_test)\n",
    "\n",
    "score = accuracy_score(y_test,pred)\n",
    "\n",
    "print('Accuracy score: {:.2%}'.format(score))"
   ]
  },
  {
   "cell_type": "markdown",
   "metadata": {},
   "source": [
    "## Problem b)"
   ]
  },
  {
   "cell_type": "markdown",
   "metadata": {},
   "source": [
    "The X_train and X_test datasets are scaled using Scikit-learns StandardScaler function to scale each variable to have variance of 1. This is so that all the variables will be treated equal when principal components are calculated. \\\n",
    "Then the principal components are created using the PCA function from Scikit-learn. Principal components for both train and test sets are created. \n",
    "\n",
    "The two first principal components are then fitted to a logistic model and predictions are made for the principal components of the scaled X_test set. \\\n",
    "The model are somewhat less accurate than the previous one at 87.47 %."
   ]
  },
  {
   "cell_type": "code",
   "execution_count": 8,
   "metadata": {},
   "outputs": [],
   "source": [
    "X_train_scaled = pd.DataFrame(StandardScaler().fit_transform(X_train), index=X_train.index)\n",
    "X_train_scaled.columns = X_train.columns\n",
    "\n",
    "X_test_scaled = pd.DataFrame(StandardScaler().fit_transform(X_test), index = X_test.index)\n",
    "X_test_scaled.columns = X_test.columns"
   ]
  },
  {
   "cell_type": "code",
   "execution_count": 9,
   "metadata": {},
   "outputs": [
    {
     "data": {
      "text/html": [
       "<div>\n",
       "<style scoped>\n",
       "    .dataframe tbody tr th:only-of-type {\n",
       "        vertical-align: middle;\n",
       "    }\n",
       "\n",
       "    .dataframe tbody tr th {\n",
       "        vertical-align: top;\n",
       "    }\n",
       "\n",
       "    .dataframe thead th {\n",
       "        text-align: right;\n",
       "    }\n",
       "</style>\n",
       "<table border=\"1\" class=\"dataframe\">\n",
       "  <thead>\n",
       "    <tr style=\"text-align: right;\">\n",
       "      <th></th>\n",
       "      <th>x1</th>\n",
       "      <th>x2</th>\n",
       "      <th>x3</th>\n",
       "      <th>x4</th>\n",
       "      <th>x5</th>\n",
       "      <th>x6</th>\n",
       "      <th>x7</th>\n",
       "      <th>x8</th>\n",
       "      <th>x9</th>\n",
       "      <th>x10</th>\n",
       "      <th>...</th>\n",
       "      <th>x48</th>\n",
       "      <th>x49</th>\n",
       "      <th>x50</th>\n",
       "      <th>x51</th>\n",
       "      <th>x52</th>\n",
       "      <th>x53</th>\n",
       "      <th>x54</th>\n",
       "      <th>x55</th>\n",
       "      <th>x56</th>\n",
       "      <th>x57</th>\n",
       "    </tr>\n",
       "  </thead>\n",
       "  <tbody>\n",
       "    <tr>\n",
       "      <th>variance(X_train)</th>\n",
       "      <td>0.07</td>\n",
       "      <td>1.22</td>\n",
       "      <td>0.29</td>\n",
       "      <td>2.28</td>\n",
       "      <td>0.48</td>\n",
       "      <td>0.09</td>\n",
       "      <td>0.18</td>\n",
       "      <td>0.14</td>\n",
       "      <td>0.09</td>\n",
       "      <td>0.31</td>\n",
       "      <td>...</td>\n",
       "      <td>0.09</td>\n",
       "      <td>0.07</td>\n",
       "      <td>0.06</td>\n",
       "      <td>0.01</td>\n",
       "      <td>0.48</td>\n",
       "      <td>0.05</td>\n",
       "      <td>0.01</td>\n",
       "      <td>1534.77</td>\n",
       "      <td>16698.18</td>\n",
       "      <td>365304.88</td>\n",
       "    </tr>\n",
       "    <tr>\n",
       "      <th>variance(X_train_scaled)</th>\n",
       "      <td>1.00</td>\n",
       "      <td>1.00</td>\n",
       "      <td>1.00</td>\n",
       "      <td>1.00</td>\n",
       "      <td>1.00</td>\n",
       "      <td>1.00</td>\n",
       "      <td>1.00</td>\n",
       "      <td>1.00</td>\n",
       "      <td>1.00</td>\n",
       "      <td>1.00</td>\n",
       "      <td>...</td>\n",
       "      <td>1.00</td>\n",
       "      <td>1.00</td>\n",
       "      <td>1.00</td>\n",
       "      <td>1.00</td>\n",
       "      <td>1.00</td>\n",
       "      <td>1.00</td>\n",
       "      <td>1.00</td>\n",
       "      <td>1.00</td>\n",
       "      <td>1.00</td>\n",
       "      <td>1.00</td>\n",
       "    </tr>\n",
       "  </tbody>\n",
       "</table>\n",
       "<p>2 rows × 57 columns</p>\n",
       "</div>"
      ],
      "text/plain": [
       "                            x1    x2    x3    x4    x5    x6    x7    x8  \\\n",
       "variance(X_train)         0.07  1.22  0.29  2.28  0.48  0.09  0.18  0.14   \n",
       "variance(X_train_scaled)  1.00  1.00  1.00  1.00  1.00  1.00  1.00  1.00   \n",
       "\n",
       "                            x9   x10  ...   x48   x49   x50   x51   x52   x53  \\\n",
       "variance(X_train)         0.09  0.31  ...  0.09  0.07  0.06  0.01  0.48  0.05   \n",
       "variance(X_train_scaled)  1.00  1.00  ...  1.00  1.00  1.00  1.00  1.00  1.00   \n",
       "\n",
       "                           x54      x55       x56        x57  \n",
       "variance(X_train)         0.01  1534.77  16698.18  365304.88  \n",
       "variance(X_train_scaled)  1.00     1.00      1.00       1.00  \n",
       "\n",
       "[2 rows x 57 columns]"
      ]
     },
     "execution_count": 9,
     "metadata": {},
     "output_type": "execute_result"
    }
   ],
   "source": [
    "pd.DataFrame([X_train.var(),X_train_scaled.var()],index=['variance(X_train)','variance(X_train_scaled)']).applymap('{:.2f}'.format)"
   ]
  },
  {
   "cell_type": "code",
   "execution_count": 10,
   "metadata": {},
   "outputs": [],
   "source": [
    "PCA_X_train = PCA().fit_transform(X_train_scaled)\n",
    "PCA_X_test = PCA().fit_transform(X_test_scaled)"
   ]
  },
  {
   "cell_type": "code",
   "execution_count": 11,
   "metadata": {},
   "outputs": [
    {
     "data": {
      "text/html": [
       "<div>\n",
       "<style scoped>\n",
       "    .dataframe tbody tr th:only-of-type {\n",
       "        vertical-align: middle;\n",
       "    }\n",
       "\n",
       "    .dataframe tbody tr th {\n",
       "        vertical-align: top;\n",
       "    }\n",
       "\n",
       "    .dataframe thead th {\n",
       "        text-align: right;\n",
       "    }\n",
       "</style>\n",
       "<table border=\"1\" class=\"dataframe\">\n",
       "  <thead>\n",
       "    <tr style=\"text-align: right;\">\n",
       "      <th></th>\n",
       "      <th>x1</th>\n",
       "      <th>x2</th>\n",
       "      <th>x3</th>\n",
       "      <th>x4</th>\n",
       "      <th>x5</th>\n",
       "      <th>x6</th>\n",
       "      <th>x7</th>\n",
       "      <th>x8</th>\n",
       "      <th>x9</th>\n",
       "      <th>x10</th>\n",
       "      <th>...</th>\n",
       "      <th>x48</th>\n",
       "      <th>x49</th>\n",
       "      <th>x50</th>\n",
       "      <th>x51</th>\n",
       "      <th>x52</th>\n",
       "      <th>x53</th>\n",
       "      <th>x54</th>\n",
       "      <th>x55</th>\n",
       "      <th>x56</th>\n",
       "      <th>x57</th>\n",
       "    </tr>\n",
       "  </thead>\n",
       "  <tbody>\n",
       "    <tr>\n",
       "      <th>0</th>\n",
       "      <td>-0.745813</td>\n",
       "      <td>-0.001220</td>\n",
       "      <td>-0.543658</td>\n",
       "      <td>0.166821</td>\n",
       "      <td>0.379664</td>\n",
       "      <td>-0.141470</td>\n",
       "      <td>-0.611727</td>\n",
       "      <td>0.145416</td>\n",
       "      <td>0.464244</td>\n",
       "      <td>-0.169731</td>\n",
       "      <td>...</td>\n",
       "      <td>0.045134</td>\n",
       "      <td>-0.370694</td>\n",
       "      <td>-0.101250</td>\n",
       "      <td>0.048414</td>\n",
       "      <td>0.242066</td>\n",
       "      <td>0.198206</td>\n",
       "      <td>0.021473</td>\n",
       "      <td>-0.093019</td>\n",
       "      <td>-0.165704</td>\n",
       "      <td>-0.010684</td>\n",
       "    </tr>\n",
       "    <tr>\n",
       "      <th>1</th>\n",
       "      <td>-1.657955</td>\n",
       "      <td>5.406824</td>\n",
       "      <td>2.753136</td>\n",
       "      <td>-3.355682</td>\n",
       "      <td>0.675306</td>\n",
       "      <td>-0.008918</td>\n",
       "      <td>-3.532403</td>\n",
       "      <td>-0.661995</td>\n",
       "      <td>-0.479075</td>\n",
       "      <td>0.956521</td>\n",
       "      <td>...</td>\n",
       "      <td>0.403760</td>\n",
       "      <td>1.637965</td>\n",
       "      <td>0.141401</td>\n",
       "      <td>0.151414</td>\n",
       "      <td>-0.244837</td>\n",
       "      <td>0.163417</td>\n",
       "      <td>-0.008541</td>\n",
       "      <td>-0.176678</td>\n",
       "      <td>0.022208</td>\n",
       "      <td>0.002181</td>\n",
       "    </tr>\n",
       "    <tr>\n",
       "      <th>2</th>\n",
       "      <td>-1.283149</td>\n",
       "      <td>3.462598</td>\n",
       "      <td>1.100446</td>\n",
       "      <td>-1.419728</td>\n",
       "      <td>0.542450</td>\n",
       "      <td>0.977236</td>\n",
       "      <td>2.627567</td>\n",
       "      <td>1.131569</td>\n",
       "      <td>-2.145209</td>\n",
       "      <td>0.620076</td>\n",
       "      <td>...</td>\n",
       "      <td>-0.235295</td>\n",
       "      <td>-1.114388</td>\n",
       "      <td>0.513960</td>\n",
       "      <td>-0.128784</td>\n",
       "      <td>0.062511</td>\n",
       "      <td>-0.265924</td>\n",
       "      <td>0.281776</td>\n",
       "      <td>-1.539771</td>\n",
       "      <td>-0.028275</td>\n",
       "      <td>0.009850</td>\n",
       "    </tr>\n",
       "    <tr>\n",
       "      <th>3</th>\n",
       "      <td>-0.817680</td>\n",
       "      <td>0.370357</td>\n",
       "      <td>-0.030195</td>\n",
       "      <td>0.039799</td>\n",
       "      <td>0.311281</td>\n",
       "      <td>-0.392116</td>\n",
       "      <td>-0.603977</td>\n",
       "      <td>-0.463080</td>\n",
       "      <td>0.271725</td>\n",
       "      <td>0.074094</td>\n",
       "      <td>...</td>\n",
       "      <td>0.025288</td>\n",
       "      <td>0.184419</td>\n",
       "      <td>-0.032082</td>\n",
       "      <td>0.039245</td>\n",
       "      <td>-0.000236</td>\n",
       "      <td>0.041161</td>\n",
       "      <td>-0.062834</td>\n",
       "      <td>0.256961</td>\n",
       "      <td>-0.100172</td>\n",
       "      <td>-0.005165</td>\n",
       "    </tr>\n",
       "    <tr>\n",
       "      <th>4</th>\n",
       "      <td>-0.706775</td>\n",
       "      <td>-0.024644</td>\n",
       "      <td>-0.579928</td>\n",
       "      <td>0.190186</td>\n",
       "      <td>0.308951</td>\n",
       "      <td>-0.087825</td>\n",
       "      <td>-0.643032</td>\n",
       "      <td>0.215263</td>\n",
       "      <td>0.324316</td>\n",
       "      <td>-0.130821</td>\n",
       "      <td>...</td>\n",
       "      <td>0.013909</td>\n",
       "      <td>-0.403776</td>\n",
       "      <td>-0.059859</td>\n",
       "      <td>0.036058</td>\n",
       "      <td>0.229990</td>\n",
       "      <td>0.178523</td>\n",
       "      <td>0.014229</td>\n",
       "      <td>-0.099382</td>\n",
       "      <td>-0.150095</td>\n",
       "      <td>-0.010768</td>\n",
       "    </tr>\n",
       "  </tbody>\n",
       "</table>\n",
       "<p>5 rows × 57 columns</p>\n",
       "</div>"
      ],
      "text/plain": [
       "         x1        x2        x3        x4        x5        x6        x7  \\\n",
       "0 -0.745813 -0.001220 -0.543658  0.166821  0.379664 -0.141470 -0.611727   \n",
       "1 -1.657955  5.406824  2.753136 -3.355682  0.675306 -0.008918 -3.532403   \n",
       "2 -1.283149  3.462598  1.100446 -1.419728  0.542450  0.977236  2.627567   \n",
       "3 -0.817680  0.370357 -0.030195  0.039799  0.311281 -0.392116 -0.603977   \n",
       "4 -0.706775 -0.024644 -0.579928  0.190186  0.308951 -0.087825 -0.643032   \n",
       "\n",
       "         x8        x9       x10  ...       x48       x49       x50       x51  \\\n",
       "0  0.145416  0.464244 -0.169731  ...  0.045134 -0.370694 -0.101250  0.048414   \n",
       "1 -0.661995 -0.479075  0.956521  ...  0.403760  1.637965  0.141401  0.151414   \n",
       "2  1.131569 -2.145209  0.620076  ... -0.235295 -1.114388  0.513960 -0.128784   \n",
       "3 -0.463080  0.271725  0.074094  ...  0.025288  0.184419 -0.032082  0.039245   \n",
       "4  0.215263  0.324316 -0.130821  ...  0.013909 -0.403776 -0.059859  0.036058   \n",
       "\n",
       "        x52       x53       x54       x55       x56       x57  \n",
       "0  0.242066  0.198206  0.021473 -0.093019 -0.165704 -0.010684  \n",
       "1 -0.244837  0.163417 -0.008541 -0.176678  0.022208  0.002181  \n",
       "2  0.062511 -0.265924  0.281776 -1.539771 -0.028275  0.009850  \n",
       "3 -0.000236  0.041161 -0.062834  0.256961 -0.100172 -0.005165  \n",
       "4  0.229990  0.178523  0.014229 -0.099382 -0.150095 -0.010768  \n",
       "\n",
       "[5 rows x 57 columns]"
      ]
     },
     "execution_count": 11,
     "metadata": {},
     "output_type": "execute_result"
    }
   ],
   "source": [
    "pd.DataFrame(PCA_X_train,columns=X_train.columns).head()"
   ]
  },
  {
   "cell_type": "code",
   "execution_count": 12,
   "metadata": {},
   "outputs": [
    {
     "name": "stdout",
     "output_type": "stream",
     "text": [
      "PCA_X_train_2 shape: (1536, 2)\n",
      "PCA_X_test_2 shape: (3065, 2)\n"
     ]
    }
   ],
   "source": [
    "PCA_X_train_2 = PCA_X_train[:,:2]\n",
    "PCA_X_test_2 = PCA_X_test[:,:2]\n",
    "print(f'PCA_X_train_2 shape: {PCA_X_train_2.shape}\\nPCA_X_test_2 shape: {PCA_X_test_2.shape}')"
   ]
  },
  {
   "cell_type": "code",
   "execution_count": 13,
   "metadata": {},
   "outputs": [
    {
     "name": "stdout",
     "output_type": "stream",
     "text": [
      "Accuracy score: 87.47%\n"
     ]
    }
   ],
   "source": [
    "fit2 = LogisticRegression(max_iter=1e4).fit(PCA_X_train_2,y_train)\n",
    "pred2 = fit2.predict(PCA_X_test_2)\n",
    "score2 = accuracy_score(y_test,pred2)\n",
    "\n",
    "print('Accuracy score: {:.2%}'.format(score2))"
   ]
  },
  {
   "cell_type": "markdown",
   "metadata": {},
   "source": [
    "## Problem c)"
   ]
  },
  {
   "cell_type": "markdown",
   "metadata": {},
   "source": [
    "Fitting the k first principal components with a logistic model for all numbers of k. \n",
    "The models seems to be most accurate at the lower end of k with the highest score of 87.47 % \n",
    "at two principal components as seen in the previous section. The accuracy score seems to suffer\n",
    "as we move to higher numbers of k. \n",
    "But looking at the principal components and the explained variance the cumulative variance is \n",
    "increasing rather slowly and reaching 95 % at k = 46. \n",
    "This indicates that even though the highest score is at k = 2 this model might not be stable as \n",
    "other as there are more information contained in the other variables. "
   ]
  },
  {
   "cell_type": "code",
   "execution_count": 14,
   "metadata": {},
   "outputs": [],
   "source": [
    "\n",
    "    \n",
    "score_list = []\n",
    "for k in range(1,PCA_X_train.shape[1]+1):\n",
    "\n",
    "    PCA_X_train_ = PCA_X_train[:,:k]\n",
    "    fit = LogisticRegression(max_iter=1e4).fit(PCA_X_train_, y_train)\n",
    "    pred = fit.predict(PCA_X_test[:,:k])\n",
    "    score = accuracy_score(y_test, pred)\n",
    "\n",
    "    score_list.append((k,score))\n"
   ]
  },
  {
   "cell_type": "code",
   "execution_count": 15,
   "metadata": {},
   "outputs": [],
   "source": [
    "pca = pd.DataFrame(PCA().fit(X_train_scaled).explained_variance_ratio_)\n",
    "pca['cum'] = pca[0].cumsum()"
   ]
  },
  {
   "cell_type": "code",
   "execution_count": 16,
   "metadata": {},
   "outputs": [
    {
     "data": {
      "text/plain": [
       "<AxesSubplot:xlabel='k'>"
      ]
     },
     "execution_count": 16,
     "metadata": {},
     "output_type": "execute_result"
    },
    {
     "data": {
      "image/png": "[encoded data removed]",
      "text/plain": [
       "<Figure size 432x288 with 1 Axes>"
      ]
     },
     "metadata": {
      "needs_background": "light"
     },
     "output_type": "display_data"
    }
   ],
   "source": [
    "pd.DataFrame(score_list,columns=[\"k\",\"Accuracy score\"]).set_index(\"k\").plot()"
   ]
  },
  {
   "cell_type": "code",
   "execution_count": 17,
   "metadata": {},
   "outputs": [
    {
     "data": {
      "text/plain": [
       "<matplotlib.legend.Legend at 0x1e1db4f2e80>"
      ]
     },
     "execution_count": 17,
     "metadata": {},
     "output_type": "execute_result"
    },
    {
     "data": {
      "image/png": "[encoded data removed]",
      "text/plain": [
       "<Figure size 1152x576 with 2 Axes>"
      ]
     },
     "metadata": {
      "needs_background": "light"
     },
     "output_type": "display_data"
    }
   ],
   "source": [
    "pca = pd.DataFrame(PCA().fit(X_train_scaled).explained_variance_ratio_)\n",
    "pca['cum'] = pca[0].cumsum()\n",
    "\n",
    "fig,ax = plt.subplots(figsize=(16,8))\n",
    "ax.plot(pca.index,pca[0])\n",
    "ax2 = ax.twinx()\n",
    "ax2.plot(pca.index,pca['cum'],'o-',color=\"orange\")\n",
    "# fig.legend([\"Explained variance\",\"Cummulative variance\"])\n",
    "ax.set_xlabel(\"k\")\n",
    "ax2.axvline(pca.cum.loc[pca.cum >= 0.95].iloc[[0]].index,color=\"red\")\n",
    "fig.legend([\"Explained variance\",\"Cumulative variance\",'95 % cumulative variance'])\n"
   ]
  },
  {
   "cell_type": "markdown",
   "metadata": {},
   "source": [
    "## Problem d)"
   ]
  },
  {
   "cell_type": "markdown",
   "metadata": {},
   "source": [
    "Not quite sure whats being asked here. "
   ]
  },
  {
   "cell_type": "code",
   "execution_count": 18,
   "metadata": {},
   "outputs": [
    {
     "data": {
      "text/plain": [
       "<AxesSubplot:>"
      ]
     },
     "execution_count": 18,
     "metadata": {},
     "output_type": "execute_result"
    },
    {
     "data": {
      "image/png": "[encoded data removed]",
      "text/plain": [
       "<Figure size 432x288 with 1 Axes>"
      ]
     },
     "metadata": {
      "needs_background": "light"
     },
     "output_type": "display_data"
    }
   ],
   "source": [
    "pd.DataFrame(PCA().fit(X_train_scaled).components_).loc[0].plot()"
   ]
  },
  {
   "cell_type": "code",
   "execution_count": 19,
   "metadata": {},
   "outputs": [
    {
     "data": {
      "text/plain": [
       "<AxesSubplot:>"
      ]
     },
     "execution_count": 19,
     "metadata": {},
     "output_type": "execute_result"
    },
    {
     "data": {
      "image/png": "[encoded data removed]",
      "text/plain": [
       "<Figure size 432x288 with 1 Axes>"
      ]
     },
     "metadata": {
      "needs_background": "light"
     },
     "output_type": "display_data"
    }
   ],
   "source": [
    "pd.DataFrame(PCA().fit(X_train_scaled).components_).mean(axis=1).plot()"
   ]
  },
  {
   "cell_type": "markdown",
   "metadata": {},
   "source": [
    "### Problem e)"
   ]
  },
  {
   "cell_type": "markdown",
   "metadata": {},
   "source": [
    "Using the LogisticGAM function from the pyGAM library I fit a model to the 3 first scaled features. \n",
    "https://pygam.readthedocs.io/en/latest/api/logisticgam.html\n",
    "\n",
    "I do not seem to get any improvement on the linear model with 69.69 % as the worst model so far. \n",
    "\n",
    "We can se that the second term included has the most dependence as the high and low of the dependence graph are higher values than  the two other variables. This feature also seems to have a more linear dependence, which could be an explenation of why the linear model outperforms. "
   ]
  },
  {
   "cell_type": "code",
   "execution_count": 20,
   "metadata": {},
   "outputs": [
    {
     "name": "stdout",
     "output_type": "stream",
     "text": [
      "Accuracy score: 69.69%\n"
     ]
    }
   ],
   "source": [
    "gam = LogisticGAM(s(0) + s(1) + s(2),fit_intercept=True).fit(X_train_scaled.loc[:,:'x3'].values, y_train)\n",
    "pred = gam.predict(X_test_scaled.loc[:,:'x3'])\n",
    "score_gam = accuracy_score(y_test,pred)\n",
    "\n",
    "print('Accuracy score: {:.2%}'.format(score_gam))"
   ]
  },
  {
   "cell_type": "code",
   "execution_count": 21,
   "metadata": {},
   "outputs": [
    {
     "data": {
      "image/png": "[encoded data removed]",
      "text/plain": [
       "<Figure size 432x288 with 1 Axes>"
      ]
     },
     "metadata": {
      "needs_background": "light"
     },
     "output_type": "display_data"
    },
    {
     "data": {
      "image/png": "[encoded data removed]",
      "text/plain": [
       "<Figure size 432x288 with 1 Axes>"
      ]
     },
     "metadata": {
      "needs_background": "light"
     },
     "output_type": "display_data"
    },
    {
     "data": {
      "image/png": "[encoded data removed]",
      "text/plain": [
       "<Figure size 432x288 with 1 Axes>"
      ]
     },
     "metadata": {
      "needs_background": "light"
     },
     "output_type": "display_data"
    }
   ],
   "source": [
    "for i, term in enumerate(gam.terms):\n",
    "    if term.isintercept:\n",
    "        continue\n",
    "\n",
    "    XX = gam.generate_X_grid(term=i)\n",
    "    pdep, confi = gam.partial_dependence(term=i, X=XX, width=0.95)\n",
    "\n",
    "    plt.figure()\n",
    "    plt.plot(XX[:, term.feature], pdep)\n",
    "    plt.plot(XX[:, term.feature], confi, c='r', ls='--')\n",
    "#     plt.ylim(-10,10)\n",
    "    plt.title(repr(term))\n",
    "    plt.show()\n"
   ]
  },
  {
   "cell_type": "markdown",
   "metadata": {},
   "source": [
    "## Problem f)"
   ]
  },
  {
   "cell_type": "markdown",
   "metadata": {},
   "source": [
    "Score is quite a bit better here than the GAM model with the 3 first features. \n",
    "It is on the same level as the k=2 principal components model with 87.93 % accuracy. \\\n",
    "\n",
    "With the principal components in the GAM model the dependence seems to be much higher for all the componenets of the model compared to the previous one. \n",
    "The first term seem to have the greatest dependence, it also holds the most information as we know from problem c, it also seems to be linear. \n",
    "The dependence looks to be greatest at the edges. \n",
    "\n"
   ]
  },
  {
   "cell_type": "code",
   "execution_count": 22,
   "metadata": {},
   "outputs": [
    {
     "name": "stdout",
     "output_type": "stream",
     "text": [
      "Accuracy score: 87.93%\n"
     ]
    }
   ],
   "source": [
    "pca_X_train_3 = PCA().fit_transform(X_train_scaled)[:,:3]\n",
    "pca_X_test_3 = PCA().fit_transform(X_test_scaled)[:,:3]\n",
    "\n",
    "gam2 = LogisticGAM(s(0) + s(1) + s(2),fit_intercept=True).fit(pca_X_train_3, y_train)\n",
    "pred = gam2.predict(pca_X_test_3)\n",
    "score_gam = accuracy_score(y_test,pred)\n",
    "\n",
    "print('Accuracy score: {:.2%}'.format(score_gam))"
   ]
  },
  {
   "cell_type": "code",
   "execution_count": 23,
   "metadata": {},
   "outputs": [
    {
     "data": {
      "image/png": "[encoded data removed]",
      "text/plain": [
       "<Figure size 432x288 with 1 Axes>"
      ]
     },
     "metadata": {
      "needs_background": "light"
     },
     "output_type": "display_data"
    },
    {
     "data": {
      "image/png": "[encoded data removed]",
      "text/plain": [
       "<Figure size 432x288 with 1 Axes>"
      ]
     },
     "metadata": {
      "needs_background": "light"
     },
     "output_type": "display_data"
    },
    {
     "data": {
      "image/png": "[encoded data removed]",
      "text/plain": [
       "<Figure size 432x288 with 1 Axes>"
      ]
     },
     "metadata": {
      "needs_background": "light"
     },
     "output_type": "display_data"
    }
   ],
   "source": [
    "for i, term in enumerate(gam.terms):\n",
    "    if term.isintercept:\n",
    "        continue\n",
    "\n",
    "    XX = gam2.generate_X_grid(term=i)\n",
    "    pdep, confi = gam2.partial_dependence(term=i, X=XX, width=0.95)\n",
    "\n",
    "    plt.figure()\n",
    "    plt.plot(XX[:, term.feature], pdep)\n",
    "    plt.plot(XX[:, term.feature], confi, c='r', ls='--')\n",
    "#     plt.ylim(-10,10)\n",
    "    plt.title(repr(term))\n",
    "    plt.show()\n"
   ]
  },
  {
   "cell_type": "markdown",
   "metadata": {},
   "source": [
    "## Problem g) "
   ]
  },
  {
   "cell_type": "code",
   "execution_count": 24,
   "metadata": {},
   "outputs": [],
   "source": [
    "from pygam.terms import TermList, SplineTerm"
   ]
  },
  {
   "cell_type": "code",
   "execution_count": 25,
   "metadata": {},
   "outputs": [
    {
     "data": {
      "text/plain": [
       "s(0) + s(1) + s(2) + s(3) + s(4) + s(5) + s(6) + s(7) + s(8) + s(9) + s(10) + s(11) + s(12) + s(13) + s(14) + s(15) + s(16) + s(17) + s(18) + s(19)"
      ]
     },
     "execution_count": 25,
     "metadata": {},
     "output_type": "execute_result"
    }
   ],
   "source": [
    "n = 20\n",
    "tlist = TermList()\n",
    "\n",
    "for i in range(n):\n",
    "    tlist += SplineTerm(i)\n",
    "\n",
    "tlist"
   ]
  },
  {
   "cell_type": "code",
   "execution_count": 26,
   "metadata": {},
   "outputs": [],
   "source": [
    "pca_X_train_ = PCA().fit_transform(X_train_scaled)[:,:n]\n",
    "pca_X_test_ = PCA().fit_transform(X_test_scaled)[:,:n]"
   ]
  },
  {
   "cell_type": "code",
   "execution_count": 27,
   "metadata": {},
   "outputs": [
    {
     "name": "stderr",
     "output_type": "stream",
     "text": [
      "c:\\python38\\lib\\site-packages\\pygam\\links.py:149: RuntimeWarning: divide by zero encountered in true_divide\n",
      "  return dist.levels/(mu*(dist.levels - mu))\n",
      "c:\\python38\\lib\\site-packages\\pygam\\pygam.py:591: RuntimeWarning: invalid value encountered in multiply\n",
      "  return sp.sparse.diags((self.link.gradient(mu, self.distribution)**2 *\n",
      "c:\\python38\\lib\\site-packages\\pygam\\pygam.py:614: RuntimeWarning: invalid value encountered in greater_equal\n",
      "  mask = (np.abs(weights) >= np.sqrt(EPS)) * np.isfinite(weights)\n",
      "c:\\python38\\lib\\site-packages\\pygam\\pygam.py:591: RuntimeWarning: overflow encountered in square\n",
      "  return sp.sparse.diags((self.link.gradient(mu, self.distribution)**2 *\n",
      "c:\\python38\\lib\\site-packages\\pygam\\links.py:149: RuntimeWarning: overflow encountered in true_divide\n",
      "  return dist.levels/(mu*(dist.levels - mu))\n",
      "c:\\python38\\lib\\site-packages\\pygam\\links.py:133: RuntimeWarning: overflow encountered in exp\n",
      "  elp = np.exp(lp)\n",
      "c:\\python38\\lib\\site-packages\\pygam\\links.py:134: RuntimeWarning: invalid value encountered in true_divide\n",
      "  return dist.levels * elp / (elp + 1)\n"
     ]
    }
   ],
   "source": [
    "gam3 = LogisticGAM(terms=tlist,fit_intercept=True).fit(pca_X_train_, y_train)"
   ]
  },
  {
   "cell_type": "code",
   "execution_count": 28,
   "metadata": {},
   "outputs": [
    {
     "name": "stdout",
     "output_type": "stream",
     "text": [
      "Accuracy score: 78.11%\n"
     ]
    }
   ],
   "source": [
    "pred = gam3.predict(pca_X_test_)\n",
    "score_gam3 = accuracy_score(y_test,pred)\n",
    "\n",
    "print('Accuracy score: {:.2%}'.format(score_gam3))"
   ]
  },
  {
   "cell_type": "markdown",
   "metadata": {},
   "source": [
    "## Problem h)  "
   ]
  },
  {
   "cell_type": "markdown",
   "metadata": {},
   "source": [
    "I cant seem to get past k = 20 on this one. \\\n",
    "Getting some Optimiaztion error which i haven't managed to figure out.\n",
    "\n",
    "The model accuracy seems to peak at 87.9 % on k = 3. "
   ]
  },
  {
   "cell_type": "code",
   "execution_count": 29,
   "metadata": {},
   "outputs": [],
   "source": [
    "from sklearn.metrics import confusion_matrix"
   ]
  },
  {
   "cell_type": "code",
   "execution_count": 30,
   "metadata": {},
   "outputs": [
    {
     "ename": "OptimizationError",
     "evalue": "PIRLS optimization has diverged.\nTry increasing regularization, or specifying an initial value for self.coef_",
     "output_type": "error",
     "traceback": [
      "\u001b[1;31m---------------------------------------------------------------------------\u001b[0m",
      "\u001b[1;31mOptimizationError\u001b[0m                         Traceback (most recent call last)",
      "\u001b[1;32m<ipython-input-30-98bd450df1db>\u001b[0m in \u001b[0;36m<module>\u001b[1;34m\u001b[0m\n\u001b[0;32m     14\u001b[0m     \u001b[0mpca_X_test_\u001b[0m \u001b[1;33m=\u001b[0m \u001b[0mPCA\u001b[0m\u001b[1;33m(\u001b[0m\u001b[1;33m)\u001b[0m\u001b[1;33m.\u001b[0m\u001b[0mfit_transform\u001b[0m\u001b[1;33m(\u001b[0m\u001b[0mX_test_scaled\u001b[0m\u001b[1;33m)\u001b[0m\u001b[1;33m[\u001b[0m\u001b[1;33m:\u001b[0m\u001b[1;33m,\u001b[0m\u001b[1;33m:\u001b[0m\u001b[0mn\u001b[0m\u001b[1;33m]\u001b[0m\u001b[1;33m\u001b[0m\u001b[1;33m\u001b[0m\u001b[0m\n\u001b[0;32m     15\u001b[0m \u001b[1;33m\u001b[0m\u001b[0m\n\u001b[1;32m---> 16\u001b[1;33m     \u001b[0mgam\u001b[0m \u001b[1;33m=\u001b[0m \u001b[0mLogisticGAM\u001b[0m\u001b[1;33m(\u001b[0m\u001b[0mterms\u001b[0m\u001b[1;33m=\u001b[0m\u001b[0mtlist\u001b[0m\u001b[1;33m,\u001b[0m\u001b[0mtol\u001b[0m\u001b[1;33m=\u001b[0m\u001b[1;36m0.001\u001b[0m\u001b[1;33m,\u001b[0m\u001b[0mfit_intercept\u001b[0m\u001b[1;33m=\u001b[0m\u001b[1;32mTrue\u001b[0m\u001b[1;33m)\u001b[0m\u001b[1;33m.\u001b[0m\u001b[0mfit\u001b[0m\u001b[1;33m(\u001b[0m\u001b[0mpca_X_train_\u001b[0m\u001b[1;33m,\u001b[0m \u001b[0my_train\u001b[0m\u001b[1;33m)\u001b[0m\u001b[1;33m\u001b[0m\u001b[1;33m\u001b[0m\u001b[0m\n\u001b[0m\u001b[0;32m     17\u001b[0m     \u001b[0mpred\u001b[0m \u001b[1;33m=\u001b[0m \u001b[0mgam\u001b[0m\u001b[1;33m.\u001b[0m\u001b[0mpredict\u001b[0m\u001b[1;33m(\u001b[0m\u001b[0mpca_X_test_\u001b[0m\u001b[1;33m)\u001b[0m\u001b[1;33m\u001b[0m\u001b[1;33m\u001b[0m\u001b[0m\n\u001b[0;32m     18\u001b[0m     \u001b[0mscore_gam\u001b[0m \u001b[1;33m=\u001b[0m \u001b[0maccuracy_score\u001b[0m\u001b[1;33m(\u001b[0m\u001b[0my_test\u001b[0m\u001b[1;33m,\u001b[0m\u001b[0mpred\u001b[0m\u001b[1;33m)\u001b[0m\u001b[1;33m\u001b[0m\u001b[1;33m\u001b[0m\u001b[0m\n",
      "\u001b[1;32mc:\\python38\\lib\\site-packages\\pygam\\pygam.py\u001b[0m in \u001b[0;36mfit\u001b[1;34m(self, X, y, weights)\u001b[0m\n\u001b[0;32m    918\u001b[0m \u001b[1;33m\u001b[0m\u001b[0m\n\u001b[0;32m    919\u001b[0m         \u001b[1;31m# optimize\u001b[0m\u001b[1;33m\u001b[0m\u001b[1;33m\u001b[0m\u001b[1;33m\u001b[0m\u001b[0m\n\u001b[1;32m--> 920\u001b[1;33m         \u001b[0mself\u001b[0m\u001b[1;33m.\u001b[0m\u001b[0m_pirls\u001b[0m\u001b[1;33m(\u001b[0m\u001b[0mX\u001b[0m\u001b[1;33m,\u001b[0m \u001b[0my\u001b[0m\u001b[1;33m,\u001b[0m \u001b[0mweights\u001b[0m\u001b[1;33m)\u001b[0m\u001b[1;33m\u001b[0m\u001b[1;33m\u001b[0m\u001b[0m\n\u001b[0m\u001b[0;32m    921\u001b[0m         \u001b[1;31m# if self._opt == 0:\u001b[0m\u001b[1;33m\u001b[0m\u001b[1;33m\u001b[0m\u001b[1;33m\u001b[0m\u001b[0m\n\u001b[0;32m    922\u001b[0m         \u001b[1;31m#     self._pirls(X, y, weights)\u001b[0m\u001b[1;33m\u001b[0m\u001b[1;33m\u001b[0m\u001b[1;33m\u001b[0m\u001b[0m\n",
      "\u001b[1;32mc:\\python38\\lib\\site-packages\\pygam\\pygam.py\u001b[0m in \u001b[0;36m_pirls\u001b[1;34m(self, X, Y, weights)\u001b[0m\n\u001b[0;32m    723\u001b[0m \u001b[1;33m\u001b[0m\u001b[0m\n\u001b[0;32m    724\u001b[0m             \u001b[1;31m# check for weghts == 0, nan, and update\u001b[0m\u001b[1;33m\u001b[0m\u001b[1;33m\u001b[0m\u001b[1;33m\u001b[0m\u001b[0m\n\u001b[1;32m--> 725\u001b[1;33m             \u001b[0mmask\u001b[0m \u001b[1;33m=\u001b[0m \u001b[0mself\u001b[0m\u001b[1;33m.\u001b[0m\u001b[0m_mask\u001b[0m\u001b[1;33m(\u001b[0m\u001b[0mW\u001b[0m\u001b[1;33m.\u001b[0m\u001b[0mdiagonal\u001b[0m\u001b[1;33m(\u001b[0m\u001b[1;33m)\u001b[0m\u001b[1;33m)\u001b[0m\u001b[1;33m\u001b[0m\u001b[1;33m\u001b[0m\u001b[0m\n\u001b[0m\u001b[0;32m    726\u001b[0m             \u001b[0my\u001b[0m \u001b[1;33m=\u001b[0m \u001b[0my\u001b[0m\u001b[1;33m[\u001b[0m\u001b[0mmask\u001b[0m\u001b[1;33m]\u001b[0m \u001b[1;31m# update\u001b[0m\u001b[1;33m\u001b[0m\u001b[1;33m\u001b[0m\u001b[0m\n\u001b[0;32m    727\u001b[0m             \u001b[0mlp\u001b[0m \u001b[1;33m=\u001b[0m \u001b[0mlp\u001b[0m\u001b[1;33m[\u001b[0m\u001b[0mmask\u001b[0m\u001b[1;33m]\u001b[0m \u001b[1;31m# update\u001b[0m\u001b[1;33m\u001b[0m\u001b[1;33m\u001b[0m\u001b[0m\n",
      "\u001b[1;32mc:\\python38\\lib\\site-packages\\pygam\\pygam.py\u001b[0m in \u001b[0;36m_mask\u001b[1;34m(self, weights)\u001b[0m\n\u001b[0;32m    614\u001b[0m         \u001b[0mmask\u001b[0m \u001b[1;33m=\u001b[0m \u001b[1;33m(\u001b[0m\u001b[0mnp\u001b[0m\u001b[1;33m.\u001b[0m\u001b[0mabs\u001b[0m\u001b[1;33m(\u001b[0m\u001b[0mweights\u001b[0m\u001b[1;33m)\u001b[0m \u001b[1;33m>=\u001b[0m \u001b[0mnp\u001b[0m\u001b[1;33m.\u001b[0m\u001b[0msqrt\u001b[0m\u001b[1;33m(\u001b[0m\u001b[0mEPS\u001b[0m\u001b[1;33m)\u001b[0m\u001b[1;33m)\u001b[0m \u001b[1;33m*\u001b[0m \u001b[0mnp\u001b[0m\u001b[1;33m.\u001b[0m\u001b[0misfinite\u001b[0m\u001b[1;33m(\u001b[0m\u001b[0mweights\u001b[0m\u001b[1;33m)\u001b[0m\u001b[1;33m\u001b[0m\u001b[1;33m\u001b[0m\u001b[0m\n\u001b[0;32m    615\u001b[0m         \u001b[1;32mif\u001b[0m \u001b[0mmask\u001b[0m\u001b[1;33m.\u001b[0m\u001b[0msum\u001b[0m\u001b[1;33m(\u001b[0m\u001b[1;33m)\u001b[0m \u001b[1;33m==\u001b[0m \u001b[1;36m0\u001b[0m\u001b[1;33m:\u001b[0m\u001b[1;33m\u001b[0m\u001b[1;33m\u001b[0m\u001b[0m\n\u001b[1;32m--> 616\u001b[1;33m             raise OptimizationError('PIRLS optimization has diverged.\\n' +\n\u001b[0m\u001b[0;32m    617\u001b[0m                 'Try increasing regularization, or specifying an initial value for self.coef_')\n\u001b[0;32m    618\u001b[0m         \u001b[1;32mreturn\u001b[0m \u001b[0mmask\u001b[0m\u001b[1;33m\u001b[0m\u001b[1;33m\u001b[0m\u001b[0m\n",
      "\u001b[1;31mOptimizationError\u001b[0m: PIRLS optimization has diverged.\nTry increasing regularization, or specifying an initial value for self.coef_"
     ]
    }
   ],
   "source": [
    "import warnings\n",
    "warnings.filterwarnings(\"ignore\")\n",
    "\n",
    "score_list = []\n",
    "\n",
    "for i in (range(X_train.shape[1])):\n",
    "    n = i\n",
    "    tlist = TermList()\n",
    "\n",
    "    for i in range(n):\n",
    "        tlist += SplineTerm(i)\n",
    "\n",
    "    pca_X_train_ = PCA().fit_transform(X_train_scaled)[:,:n]\n",
    "    pca_X_test_ = PCA().fit_transform(X_test_scaled)[:,:n]\n",
    "    \n",
    "    gam = LogisticGAM(terms=tlist,tol=0.001,fit_intercept=True).fit(pca_X_train_, y_train)\n",
    "    pred = gam.predict(pca_X_test_)\n",
    "    score_gam = accuracy_score(y_test,pred)\n",
    "    \n",
    "    score_list.append(score_gam)   \n"
   ]
  },
  {
   "cell_type": "code",
   "execution_count": 31,
   "metadata": {},
   "outputs": [
    {
     "data": {
      "text/html": [
       "<div>\n",
       "<style scoped>\n",
       "    .dataframe tbody tr th:only-of-type {\n",
       "        vertical-align: middle;\n",
       "    }\n",
       "\n",
       "    .dataframe tbody tr th {\n",
       "        vertical-align: top;\n",
       "    }\n",
       "\n",
       "    .dataframe thead th {\n",
       "        text-align: right;\n",
       "    }\n",
       "</style>\n",
       "<table border=\"1\" class=\"dataframe\">\n",
       "  <thead>\n",
       "    <tr style=\"text-align: right;\">\n",
       "      <th></th>\n",
       "      <th>Accuracy Score</th>\n",
       "      <th>error rate</th>\n",
       "    </tr>\n",
       "  </thead>\n",
       "  <tbody>\n",
       "    <tr>\n",
       "      <th>0</th>\n",
       "      <td>60.26%</td>\n",
       "      <td>39.74%</td>\n",
       "    </tr>\n",
       "    <tr>\n",
       "      <th>1</th>\n",
       "      <td>84.76%</td>\n",
       "      <td>15.24%</td>\n",
       "    </tr>\n",
       "    <tr>\n",
       "      <th>2</th>\n",
       "      <td>87.77%</td>\n",
       "      <td>12.23%</td>\n",
       "    </tr>\n",
       "    <tr>\n",
       "      <th>3</th>\n",
       "      <td>87.93%</td>\n",
       "      <td>12.07%</td>\n",
       "    </tr>\n",
       "    <tr>\n",
       "      <th>4</th>\n",
       "      <td>86.95%</td>\n",
       "      <td>13.05%</td>\n",
       "    </tr>\n",
       "    <tr>\n",
       "      <th>5</th>\n",
       "      <td>86.30%</td>\n",
       "      <td>13.70%</td>\n",
       "    </tr>\n",
       "    <tr>\n",
       "      <th>6</th>\n",
       "      <td>85.71%</td>\n",
       "      <td>14.29%</td>\n",
       "    </tr>\n",
       "    <tr>\n",
       "      <th>7</th>\n",
       "      <td>84.67%</td>\n",
       "      <td>15.33%</td>\n",
       "    </tr>\n",
       "    <tr>\n",
       "      <th>8</th>\n",
       "      <td>85.09%</td>\n",
       "      <td>14.91%</td>\n",
       "    </tr>\n",
       "    <tr>\n",
       "      <th>9</th>\n",
       "      <td>84.14%</td>\n",
       "      <td>15.86%</td>\n",
       "    </tr>\n",
       "    <tr>\n",
       "      <th>10</th>\n",
       "      <td>81.89%</td>\n",
       "      <td>18.11%</td>\n",
       "    </tr>\n",
       "    <tr>\n",
       "      <th>11</th>\n",
       "      <td>79.87%</td>\n",
       "      <td>20.13%</td>\n",
       "    </tr>\n",
       "    <tr>\n",
       "      <th>12</th>\n",
       "      <td>80.16%</td>\n",
       "      <td>19.84%</td>\n",
       "    </tr>\n",
       "    <tr>\n",
       "      <th>13</th>\n",
       "      <td>78.63%</td>\n",
       "      <td>21.37%</td>\n",
       "    </tr>\n",
       "    <tr>\n",
       "      <th>14</th>\n",
       "      <td>79.58%</td>\n",
       "      <td>20.42%</td>\n",
       "    </tr>\n",
       "    <tr>\n",
       "      <th>15</th>\n",
       "      <td>78.60%</td>\n",
       "      <td>21.40%</td>\n",
       "    </tr>\n",
       "    <tr>\n",
       "      <th>16</th>\n",
       "      <td>79.18%</td>\n",
       "      <td>20.82%</td>\n",
       "    </tr>\n",
       "    <tr>\n",
       "      <th>17</th>\n",
       "      <td>79.54%</td>\n",
       "      <td>20.46%</td>\n",
       "    </tr>\n",
       "    <tr>\n",
       "      <th>18</th>\n",
       "      <td>79.31%</td>\n",
       "      <td>20.69%</td>\n",
       "    </tr>\n",
       "    <tr>\n",
       "      <th>19</th>\n",
       "      <td>79.84%</td>\n",
       "      <td>20.16%</td>\n",
       "    </tr>\n",
       "    <tr>\n",
       "      <th>20</th>\n",
       "      <td>78.11%</td>\n",
       "      <td>21.89%</td>\n",
       "    </tr>\n",
       "    <tr>\n",
       "      <th>21</th>\n",
       "      <td>78.83%</td>\n",
       "      <td>21.17%</td>\n",
       "    </tr>\n",
       "  </tbody>\n",
       "</table>\n",
       "</div>"
      ],
      "text/plain": [
       "   Accuracy Score error rate\n",
       "0          60.26%     39.74%\n",
       "1          84.76%     15.24%\n",
       "2          87.77%     12.23%\n",
       "3          87.93%     12.07%\n",
       "4          86.95%     13.05%\n",
       "5          86.30%     13.70%\n",
       "6          85.71%     14.29%\n",
       "7          84.67%     15.33%\n",
       "8          85.09%     14.91%\n",
       "9          84.14%     15.86%\n",
       "10         81.89%     18.11%\n",
       "11         79.87%     20.13%\n",
       "12         80.16%     19.84%\n",
       "13         78.63%     21.37%\n",
       "14         79.58%     20.42%\n",
       "15         78.60%     21.40%\n",
       "16         79.18%     20.82%\n",
       "17         79.54%     20.46%\n",
       "18         79.31%     20.69%\n",
       "19         79.84%     20.16%\n",
       "20         78.11%     21.89%\n",
       "21         78.83%     21.17%"
      ]
     },
     "metadata": {},
     "output_type": "display_data"
    },
    {
     "data": {
      "text/plain": [
       "<AxesSubplot:>"
      ]
     },
     "execution_count": 31,
     "metadata": {},
     "output_type": "execute_result"
    },
    {
     "data": {
      "image/png": "[encoded data removed]",
      "text/plain": [
       "<Figure size 432x288 with 1 Axes>"
      ]
     },
     "metadata": {
      "needs_background": "light"
     },
     "output_type": "display_data"
    }
   ],
   "source": [
    "results = pd.DataFrame(score_list,columns=[\"Accuracy Score\"])\n",
    "results[\"error rate\"] = 1 - results[\"Accuracy Score\"]\n",
    "display(results.applymap('{:.2%}'.format))\n",
    "results[\"Accuracy Score\"].plot()"
   ]
  },
  {
   "cell_type": "markdown",
   "metadata": {},
   "source": [
    "## Problem i)"
   ]
  },
  {
   "cell_type": "markdown",
   "metadata": {},
   "source": [
    "The very first model was the best model with an accuracy score of 92.10 %, included all\n",
    "features and no scaling. \n",
    "The dataset consistet of twice as much data for testing as for training, which I think is not \n",
    "optimal. Usually one wants as much data to train on as possible, and in this case there could be\n",
    "further performance increases to be gained by increasing the train dataset. \n",
    "\n",
    "The models using principal components did worse than the very first model and the model with \n",
    "the first 2 components scored about 87 %, which was as good as it got. \n",
    "When looking at all possible k principal components the models peaked at k = 2 and performance \n",
    "fell as k increased. \n",
    "\n",
    "This was somewhat suprising to me. I had expected to atleast see a performance comparable to the first\n",
    "model when all the principal components where included, all information should be included in the model. \n",
    "Makes me wonder if there might be some error in my code. \n",
    "The slow increase in the cumulative variance also suprised me somewhat as the best performing model\n",
    "was found at k = 2. I had expected that the more information included the better performance. Suspecting some error here. \n",
    "\n",
    "The first GAM model with only the 3 first features was fairly worse than previous models. The dependence plots showed \n",
    "a fairly small range for dependence, with some max and min at the edges. The strongest dependence was from the second features of this model,\n",
    "which went from max of about 10 to min of -10, the other two features was contained in smaller ranges. \n",
    "With the use of the principal compentents the dependence plots seemed to show a greater range, with mostly max and min at the edges.\n",
    "The score also improved significantly to 87.93 %, about what was seen for previous models. \n",
    "\n",
    "By increasing the number of principal components to 20 the accuracy fell to 78.1 %. At least consistent with previous experiments. \n",
    "\n",
    "For problem h I ran into some problems with my code and couldn't fit models past k = 20. But the results seemed to look \n",
    "very much like the ones I got in problem c). \n",
    "\n"
   ]
  },
  {
   "cell_type": "code",
   "execution_count": null,
   "metadata": {},
   "outputs": [],
   "source": []
  }
 ],
 "metadata": {
  "kernelspec": {
   "display_name": "Python 3",
   "language": "python",
   "name": "python3"
  },
  "language_info": {
   "codemirror_mode": {
    "name": "ipython",
    "version": 3
   },
   "file_extension": ".py",
   "mimetype": "text/x-python",
   "name": "python",
   "nbconvert_exporter": "python",
   "pygments_lexer": "ipython3",
   "version": "3.8.6"
  }
 },
 "nbformat": 4,
 "nbformat_minor": 4
}
